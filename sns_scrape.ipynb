{
 "cells": [
  {
   "cell_type": "markdown",
   "id": "63546b3d-e746-48f5-9674-49a4daaa9f5b",
   "metadata": {},
   "source": [
    "# SNS Scrape\n",
    "\n",
    "* https://github.com/JustAnotherArchivist/snscrape"
   ]
  },
  {
   "cell_type": "code",
   "execution_count": 5,
   "id": "b7fb6256-1288-485f-8166-29103bb46da6",
   "metadata": {},
   "outputs": [
    {
     "name": "stdout",
     "output_type": "stream",
     "text": [
      "3.9.7 | packaged by conda-forge | (default, Sep 29 2021, 19:23:11) \n",
      "[GCC 9.4.0]\n"
     ]
    }
   ],
   "source": [
    "import sys\n",
    "\n",
    "# snscrape requires python 3.8+\n",
    "print(sys.version)"
   ]
  },
  {
   "cell_type": "code",
   "execution_count": 6,
   "id": "29a6acbe-981e-45c9-8b38-7e27b3348d7e",
   "metadata": {},
   "outputs": [],
   "source": [
    "# https://github.com/JustAnotherArchivist/snscrape\n",
    "#!pip install snscrape"
   ]
  },
  {
   "cell_type": "markdown",
   "id": "d8c97053-304c-4a98-819e-9844bfc15e77",
   "metadata": {},
   "source": [
    "### Get last 10 tweets from a specific user"
   ]
  },
  {
   "cell_type": "code",
   "execution_count": 3,
   "id": "4fdfd916-e437-44de-8595-dde3fc8d11b6",
   "metadata": {},
   "outputs": [
    {
     "name": "stdout",
     "output_type": "stream",
     "text": [
      "2021-12-24 13:28:46+00:00: @kaixhin I think there was a blog post a few years ago (in Japanese) about a GAN trained on clip art from his site.\n",
      "2021-12-24 13:06:07+00:00: @caranha @sina_lana .@sina_lana it really puzzles me how Japan escaped covid armageddon (with subpar testing+tracing to say the least) and even end up being one of the best performing nations. I haven’t really seen any proper scientific analysis apart from anecdotes from the media and “hot takes” …\n",
      "2021-12-24 09:37:15+00:00: Web 1.0 https://t.co/uHGfyd5tDi\n",
      "2021-12-24 01:31:22+00:00: @kastnerkyle Omicron pizza…\n",
      "2021-12-24 01:25:47+00:00: Now you can taste pizza on a “lickable” TV screen 🍕 https://t.co/PixxjInalp\n",
      "2021-12-24 01:17:25+00:00: @wongmjane i’m living on the edge\n",
      "2021-12-23 03:41:47+00:00: all you need is a good idea: https://t.co/8Ummpe7ALO\n",
      "2021-12-23 01:16:26+00:00: Dataset used in ways its creator would never expect: https://t.co/gFeETK3d7P\n",
      "2021-12-23 00:54:44+00:00: @hoitab @HKUniversity It's so shameful what is happening. This entire thread too: https://t.co/ocH6asErjU\n",
      "2021-12-22 11:09:56+00:00: @benedictevans @stevesi that was an awesome slide deck\n"
     ]
    }
   ],
   "source": [
    "!snscrape -n 10 --format '{date}: {content}' twitter-user hardmaru"
   ]
  },
  {
   "cell_type": "markdown",
   "id": "aba3eea5-f96e-4d0b-8342-2a3d5ff6a24e",
   "metadata": {},
   "source": [
    "### Get tweets after a certain date from a certain user"
   ]
  },
  {
   "cell_type": "code",
   "execution_count": 4,
   "id": "70cb874b-38d5-45ea-baa2-f53c0d745336",
   "metadata": {},
   "outputs": [
    {
     "name": "stdout",
     "output_type": "stream",
     "text": [
      "2021-12-24 13:28:46+00:00: @kaixhin I think there was a blog post a few years ago (in Japanese) about a GAN trained on clip art from his site.\n",
      "2021-12-24 13:06:07+00:00: @caranha @sina_lana .@sina_lana it really puzzles me how Japan escaped covid armageddon (with subpar testing+tracing to say the least) and even end up being one of the best performing nations. I haven’t really seen any proper scientific analysis apart from anecdotes from the media and “hot takes” …\n",
      "2021-12-24 09:37:15+00:00: Web 1.0 https://t.co/uHGfyd5tDi\n",
      "2021-12-24 01:31:22+00:00: @kastnerkyle Omicron pizza…\n",
      "2021-12-24 01:25:47+00:00: Now you can taste pizza on a “lickable” TV screen 🍕 https://t.co/PixxjInalp\n",
      "2021-12-24 01:17:25+00:00: @wongmjane i’m living on the edge\n",
      "2021-12-23 03:41:47+00:00: all you need is a good idea: https://t.co/8Ummpe7ALO\n",
      "2021-12-23 01:16:26+00:00: Dataset used in ways its creator would never expect: https://t.co/gFeETK3d7P\n",
      "2021-12-23 00:54:44+00:00: @hoitab @HKUniversity It's so shameful what is happening. This entire thread too: https://t.co/ocH6asErjU\n",
      "2021-12-22 11:09:56+00:00: @benedictevans @stevesi that was an awesome slide deck\n",
      "2021-12-22 11:02:16+00:00: @mmbronstein @v_malykh i don’t tweet much about it, but i’ve been following the geopolitical situation between russia, belarus, ukraine for the past few years (there are some similarities to china/taiwan/hk which as you know i follow), and i have formed and developed my own thoughts and opinions too\n",
      "2021-12-22 08:30:09+00:00: @MelMitchell1 @sfiscience I really like these reports. Thanks for compiling the summary!\n",
      "2021-12-22 01:41:26+00:00: Making the world deterministic is hard. https://t.co/YhpkgMbycu\n",
      "2021-12-21 08:44:35+00:00: @samgreydanus There are also fringe tweetprints!\n",
      "2021-12-21 08:36:27+00:00: @stegersaurus reading about “Jagerbombs” brings back memories of LKF from what seems to be a previous lifetime…\n",
      "2021-12-21 08:02:13+00:00: @kcimc @OpenAI interesting failure cases: it won't draw a cat with 8 legs https://t.co/4jAKqwZHgt\n",
      "2021-12-21 07:14:29+00:00: Also check out this great position blog post by @risi1979, and read about why self-organization and self-assembly might be important stepping stones required to bring AI to the next level in terms of capabilities, beyond the current deep learning paradigm: https://t.co/69cWnGHdZe\n",
      "2021-12-20 22:10:03+00:00: I’m super excited to see ideas from complex systems such as swarm intelligence, self-organization, and emergent behavior gain traction again in AI research. We wrote a survey of recent developments that combine ideas from deep learning and complex systems: https://t.co/nlXrxtHUYY https://t.co/ItaaKDmsPy\n",
      "2021-12-20 09:37:56+00:00: A very thoughtful Christmas citation🎁 https://t.co/4ZvDk1uH4E\n",
      "2021-12-20 02:03:09+00:00: Generating High-Resolution MNIST digits in real-time using shaders! https://t.co/FJYOTUFDC7\n",
      "2021-12-20 01:39:34+00:00: @hoitab Seems like no one cared this year… https://t.co/LhhkXZHP1y\n",
      "2021-12-20 00:54:58+00:00: See also this poll. Ouch. https://t.co/26COiNHnZy\n",
      "2021-12-20 00:53:57+00:00: Even a cockroach-level AI will be a major breakthrough 🪳 https://t.co/SlXRDddnZY\n",
      "2021-12-19 07:59:48+00:00: @kcimc and being capable of thinking up all these seemingly impossible things and tell stories about them makes life worth living\n",
      "2021-12-18 05:12:27+00:00: @kenneth0stanley Nothing can be planned! :)\n",
      "2021-12-18 02:49:45+00:00: @Byron_Wan @mark_riedl lol! 😂\n",
      "2021-12-18 00:51:19+00:00: As researchers, there is a tendency, and also pressure, to organize our work into some grand thematic vision and follow a roadmap. That’s what we write in grant applications anyways.\n",
      "\n",
      "The reality is many researchers pursue science in a “Be Water” style, as Bruce Lee would put it. https://t.co/sMplq5nGTx\n",
      "2021-12-18 00:18:48+00:00: @JLinAffect @blaiseaguera I think so! https://t.co/Slic34HXaC\n",
      "2021-12-17 22:27:07+00:00: An engaging article about Large Language Models by @blaiseaguera that really makes one think about our own intelligence and understanding of the world.\n",
      "\n",
      "Discusses philosophical zombies, embodiment, theory of mind, arbitrariness of sensory modalities, attention and consciousness: https://t.co/VW3jEI9emM\n",
      "2021-12-17 00:52:08+00:00: @SchmidhuberAI\n",
      "2021-12-17 00:32:14+00:00: “I just found out that my 1 years' worth of research has already been published.”\n",
      "\n",
      "Has anything similar happened to you before? Do you have any advice? How could you cope with similar issues in your career?\n",
      "https://t.co/EOs8GwZwEE\n",
      "2021-12-16 22:14:48+00:00: How your brain invents your \"self\" (@anilseth)\n",
      "https://t.co/KAEwqBhYwB\n",
      "2021-12-16 21:43:02+00:00: Those cats! https://t.co/t9gnh0dnya\n",
      "2021-12-16 21:37:05+00:00: @karpathy twitter is all you need?\n",
      "2021-12-16 20:06:59+00:00: @reiinakano @ilyasut Nice work! It's interesting how the 175B model (best-of-64) doesn't offer much advantages over the 13B model (best-of-16) in the human evaluation studies.\n",
      "2021-12-16 12:23:43+00:00: @admercs I used SunOS too back in the day.\n",
      "\n",
      "Motif GUI applications on X Window System is so clean and consistent, even compared to some of today’s modern Linux desktop offerings.\n",
      "2021-12-16 10:06:35+00:00: A trading floor in the early 1990s\n",
      "\n",
      "Likely a hedge fund rather than a bank since they are using Sun/Unix rather than Windows 3.11 https://t.co/7UamFLCdrb\n",
      "2021-12-16 09:04:37+00:00: @rottytooth @wongmjane 🙀\n",
      "2021-12-16 09:03:34+00:00: Wow… maybe this “bug” has some interesting applications https://t.co/eflfdRcdQC\n",
      "2021-12-16 04:03:27+00:00: @_brohrer_ Global financial markets will crumble without Excel spreadsheets.\n",
      "2021-12-16 03:59:58+00:00: @sina_lana はい vs わかりました ?\n",
      "2021-12-15 18:15:24+00:00: this is not going to end well… https://t.co/97EVc4oYqr\n",
      "2021-12-15 17:08:06+00:00: The policy it learned doesn't look too realistic though, even with such a realistic model and MuJoCo simulator. https://t.co/0utaOasL0e\n",
      "2021-12-15 17:01:20+00:00: Bird-inspired RL agent 🐦\n",
      "\n",
      "“Ostriches are one of the fastest bipeds on earth and are therefore an excellent model for studying muscle-actuated bipedal locomotion. The model is based on CT scans and dissections used to gather actual muscle data.”\n",
      "\n",
      "https://t.co/EWbeJIkbxQ https://t.co/z98HWKWPKH\n",
      "2021-12-15 07:18:51+00:00: @CharlesRollet1 Unlike NetPosa though, DJI has a massive global footprint.\n",
      "2021-12-15 06:51:36+00:00: Similar to the dead fish swimming upstream.\n",
      "\n",
      "https://t.co/R5iMHQcqXA\n",
      "https://t.co/J1Ez00gaDh\n",
      "2021-12-15 06:48:06+00:00: With the right body, no brain is needed.\n",
      "https://t.co/XowPHYNtK9\n",
      "2021-12-15 06:14:00+00:00: @ferrouswheel Could have just been too early.\n",
      "2021-12-15 04:33:53+00:00: @fchollet Agree, the body and environment plays a big role too:\n",
      "https://t.co/TvgpsR2whn\n",
      "2021-12-15 04:27:30+00:00: @NeilDeshmukh (They still need to release the code though. I guess with the docs all in place, it'll eventually be there, maybe after the post-NeurIPS holiday break.)\n",
      "2021-12-15 01:09:27+00:00: A system for designing and training intelligent soft robots: Evolution Gym is a large-scale benchmark for co-optimizing the design and control of soft robots that takes inspiration from nature and evolutionary processes. \n",
      "\n",
      "Blog post: https://t.co/EWiyfN2l37\n",
      "\n",
      "Short explainer video https://t.co/MUEx85vW6R\n",
      "2021-12-15 00:58:50+00:00: @danbri It should be possible to add and extend the environment to make it more open-ended, and also add novel objects. They also provide an environment design tool as well for exploring extension ideas: https://t.co/nTKmAmPLkw\n",
      "2021-12-14 21:25:25+00:00: @risi1979 @enasmel @JoachimWinther @zzznah @Smearle_RH @togelius @LouisKirschAI @SchmidhuberAI @SudhakaranShyam @pathak2206 @yujin_tang @stenichele @BertChakovsky Agree, this is the future :)\n",
      "2021-12-14 21:18:56+00:00: This paper (in the main conference track, not benchmark track) was actually rejected by one committee, but was accepted by another committee during the #NeurIPS2021 experiment.\n",
      "\n",
      "Here's the link to the other review discussion about the proposed benchmark:\n",
      "https://t.co/Z9oGN3wBdl\n",
      "2021-12-14 21:12:13+00:00: Evolution Gym: A Large-Scale Benchmark for Evolving Soft Robots\n",
      "\n",
      "Seen at #NeurIPS2021: A benchmark for design and control co-optimization based on voxel-based soft robots! Written in C++ with a Python/Gym interface, and includes a set of 30 diverse tasks.\n",
      "\n",
      "https://t.co/N6yD9VTFfw https://t.co/QsF0IcKzz9\n",
      "2021-12-14 20:05:25+00:00: Symbolic AI making a comeback in the NetHack competition at #NeurIPS2021, leaving neural nets in the dust… https://t.co/32HKXbAUxj https://t.co/gcmLLG9m0w https://t.co/Rl1xweoJCh\n",
      "2021-12-14 19:36:44+00:00: Physical👆vs Virtual👇 conference https://t.co/xeeDBngH9o\n",
      "2021-12-14 06:36:26+00:00: The Matrix in a Tweet https://t.co/scylyHo9t0\n",
      "2021-12-14 06:27:10+00:00: A few “state-of-the-art” solutions: https://t.co/qiHoCbcYQr\n",
      "2021-12-14 06:13:57+00:00: Interesting how order breaks down into chaos after 6²\n",
      "\n",
      "A thread about the creativity of optimal yet awkward packing solutions: https://t.co/ubTav4BJ2m\n",
      "2021-12-14 01:51:51+00:00: @lexfridman Congratulations. You've passed the Turing Test.\n",
      "2021-12-13 22:52:12+00:00: Self-attention Does Not Need O(n²) Memory\n",
      "\n",
      "“We provide a practical implementation for accelerators that requires O(√n) memory, is numerically stable, and is within a few percent of the runtime of the standard implementation of attention.”\n",
      "\n",
      "https://t.co/iMQvCMnWgi\n",
      "2021-12-13 07:33:53+00:00: Optimal Policies Tend to Seek Power\n",
      "\n",
      "https://t.co/Pjlly3wYhh\n",
      "\n",
      "#NeurIPS2021\n",
      "https://t.co/hUpMiIJgnB\n",
      "2021-12-13 04:01:48+00:00: “It's hard to know exactly how language priors are encoded in the genome, for the same reason that it's hard to know how *any* behavior (like mating rituals) is encoded. \n",
      "\n",
      "Or, for that matter, how any complex phenotype is encoded”\n",
      "\n",
      "Nice discussion w/ @TonyZador🧠 in this thread👇 https://t.co/K5FKkaIdeg\n",
      "2021-12-13 03:53:21+00:00: @CharlesRollet1 @Reuters 🤔\n",
      "2021-12-13 03:01:44+00:00: Google’s Chip Designing AI\n",
      "\n",
      "Video by @asianometry\n",
      "\n",
      "https://t.co/jm5SMR8W7h https://t.co/H5DGDWgKZo\n",
      "2021-12-12 10:07:07+00:00: Zero-shot emoji generation of “Donald Trump made of LEGO” https://t.co/kOWzTMJLGU https://t.co/SfosfrmZur\n",
      "2021-12-12 07:08:01+00:00: Out-of-domain Generalization. https://t.co/CpPzG4dP58\n",
      "2021-12-12 06:21:28+00:00: @karpathy This one’s awesome.\n",
      "\n",
      "Spiking neurons too!\n",
      "2021-12-11 01:33:34+00:00: But neural networks, that's a dirty business.\n",
      "2021-12-11 01:32:29+00:00: Hinton on Symbolic AI:\n",
      "\n",
      "“I am sorry. What happened to your father was business. I have much respect for your father. But your father, his thinking is old-fashioned. You must understand why I had to do that.”\n",
      "2021-12-11 00:47:27+00:00: “You can do anything. But never go against the family.”\n",
      "\n",
      "— Godfather of Deep Learning https://t.co/TcrRMYg5pY\n",
      "2021-12-10 05:19:26+00:00: Join us today to chat about our #NeurIPS2021 paper “The Sensory Neuron as a Transformer: Permutation-Invariant Neural Networks for Reinforcement Learning” at the spotlight session\n",
      "\n",
      "info https://t.co/VhpDIwlC99\n",
      "poster https://t.co/mke1D7s0Om\n",
      "\n",
      "08:30PST, 11:30EST, 16:30GMT, 01:30JST https://t.co/WKkPUAtTCA https://t.co/L9MpV1j9pG\n",
      "2021-12-10 04:57:54+00:00: @gabrielpeyre I first heard of him in my student days, studying his Linear Algebra book!\n",
      "2021-12-09 23:50:13+00:00: The imperfections are like the Invisible Suit effect in “Ghost in the Shell” https://t.co/ApPGUIBMGe\n",
      "2021-12-09 08:37:00+00:00: @LouisKirschAI @GoodAIdev Congrats, @GoodAIdev! Looks super interesting.\n",
      "2021-12-08 22:15:10+00:00: “Very interesting re Transformers but also a bit concerning to me as a neuroscientist how neocortical circuit uniformity has been overblown in AI community. This is an outdated view and we need better communication between the fields.”\n",
      "\n",
      "Nice thread of work from @TheFrontalLobe_👇 https://t.co/YWfoJCjCRK\n",
      "2021-12-08 10:00:58+00:00: The Metaverse is going to be physically demanding. https://t.co/9aFvxS1L8A\n",
      "2021-12-08 04:20:31+00:00: The authors interviewed professional video editors, and found that the process of overlaying sound effects to video footage to be extremely time consuming, motivating the use of machine learning to choose and overlay sound effects onto video.\n",
      "\n",
      "Cool work by @chuanenlin @runwayml! https://t.co/12CX1vd3SH\n",
      "2021-12-08 00:30:25+00:00: Every ML model is converging into a Transformer that can basically be defined in 200 lines of PyTorch code. https://t.co/jYYrCTGf72\n",
      "2021-12-07 22:45:46+00:00: @hoitab @DeepMind Awesome, congrats! ✊🏼\n",
      "2021-12-07 08:51:40+00:00: The global supply chain congestion made to look aesthetically pleasing: https://t.co/LCZszNoGmt\n",
      "2021-12-07 04:22:03+00:00: Simulation Intelligence: Towards a New Generation of Scientific Methods\n",
      "https://t.co/hWJjbGdvUV\n",
      "2021-12-07 01:21:32+00:00: If your paper got rejected, don't give up! You're certainly not the first to get a rejection, nor will you be the last. https://t.co/Fh4MVMCCnE\n",
      "2021-12-06 05:46:21+00:00: @cHHillee What about Yes / No?\n",
      "2021-12-06 01:33:31+00:00: This must be where the Bayesians meet up on the weekends https://t.co/MgSsb8Kpt6\n",
      "2021-12-06 01:07:30+00:00: Follow @ML4CDworkshop if you're into Machine Learning for Creativity and Design! #NeurIPS2021 https://t.co/ItDi1Ip0QJ\n",
      "2021-12-06 00:53:43+00:00: @sqcai It’ll be really sad if GFW extends out into Space\n",
      "2021-12-05 00:43:25+00:00: @karpathy it’s all just ifs and for loops in the end :)\n",
      "2021-12-04 12:04:19+00:00: The Tao of Programming https://t.co/XGzwqAbsYV\n",
      "2021-12-04 10:36:29+00:00: ICLR reviewers are a tough bunch.\n",
      "2021-12-04 09:51:51+00:00: @rajiinio @NeurIPSConf Thanks for overseeing the entire process. I’m happy to see more papers receive ethical reviews @NeurIPSConf!\n",
      "2021-12-04 00:21:14+00:00: A response to the paper, “What insects can tell us about the origins of consciousness”\n",
      "\n",
      "“Insects cannot tell us anything about subjective experience or the origin of consciousness”\n",
      "\n",
      "🦋🐛🐝🐞🐜🕷🕸🦂🦗🦟🦠🧠\n",
      "https://t.co/NDTihU8QAl\n",
      "2021-12-03 11:11:54+00:00: @sarahookr Thanks, Sara, and everyone here who created such incredible works!\n",
      "2021-12-03 01:27:01+00:00: I like this form of optimization under constraints. It makes it seem like the optimizer is doing something creative.\n",
      "\n",
      "Creative limitation can also be thought of as a way to achieve a novel solution that is not otherwise possible using conventional methods.\n",
      "https://t.co/LlpboNbGhg\n",
      "2021-12-02 20:21:52+00:00: “A sad cat” https://t.co/zlHyXrj85o https://t.co/x92u6NMsyz\n",
      "2021-12-02 03:35:46+00:00: “Although aerial robots have been proven useful for remote sensing, inspection, search and rescue applications, their societal impact is held back by: their limited ability to grasp complex-shaped real-world objects to transport, or perch and save energy.”\n",
      "https://t.co/u7j3pwywt7\n",
      "2021-12-02 03:32:01+00:00: So many people in A.I. are working on engineering better robot grasping algorithms.\n",
      "\n",
      "But a few folks are working on building better grasping robots, by simply copying nature. A nice example of embodied intelligence, recently published in @ScienceMagazine.\n",
      "\n",
      "https://t.co/u7j3pwywt7 https://t.co/QruZ6ZNVLE\n",
      "2021-12-02 03:11:59+00:00: @jachiam0 YouTube, Dropbox, GitHub, WhatsApp, WordPress, Spotify, Instagram\n",
      "2021-12-02 03:05:05+00:00: Kinematic self-replication in reconfigurable organisms\n",
      "\n",
      "Artificial intelligence can design clusters of cells that can self-replicate and perform useful work, such as microcircuit assembly.\n",
      "\n",
      "https://t.co/si3TpRr5Of https://t.co/co8sEHIaCZ\n",
      "2021-12-01 22:57:56+00:00: @wongmjane @Forbes @ForbesUnder30 Congrats!!\n",
      "\n",
      "We’re so proud to see a Hong Konger on this list.\n",
      "2021-12-01 10:23:52+00:00: @kaixhin @heiga_zen good luck for that new year flight!\n",
      "\n",
      "that outfit in that pic tho… https://t.co/GXkQfoIejk\n",
      "2021-12-01 10:15:15+00:00: @heiga_zen @kaixhin\n",
      "2021-12-01 08:06:17+00:00: HyperNetworks + StyleGAN 😎 https://t.co/yMP56X3AuJ\n",
      "2021-12-01 03:11:36+00:00: “The title of your next film is ‘How Do You Live?,’” I say. “Will you give us the answer?”\n",
      "\n",
      "The smile comes only after he speaks: “I am making this movie because I do not have the answer.”\n",
      "https://t.co/FQcQetdWLj\n",
      "2021-12-01 00:42:59+00:00: Cursed tomato. https://t.co/aTTHxZqa6t\n",
      "2021-12-01 00:35:32+00:00: @karpathy Looks like a simulation of the world!\n"
     ]
    }
   ],
   "source": [
    "!snscrape --since 2021-12-01 --format '{date}: {content}' twitter-user hardmaru"
   ]
  },
  {
   "cell_type": "markdown",
   "id": "8fd774c3-75f1-44da-9145-e18c02654513",
   "metadata": {},
   "source": [
    "###"
   ]
  },
  {
   "cell_type": "code",
   "execution_count": 7,
   "id": "f4de6fe9-91d6-4ddb-a42e-e5b89da4bec6",
   "metadata": {},
   "outputs": [
    {
     "name": "stdout",
     "output_type": "stream",
     "text": [
      "usage: snscrape [-h] [--version] [--citation] [-v] [--dump-locals] [--retry N]\n",
      "                [-n N] [-f FORMAT | --jsonl] [--with-entity]\n",
      "                [--since DATETIME] [--progress]\n",
      "                SCRAPER ...\n",
      "\n",
      "optional arguments:\n",
      "  -h, --help            show this help message and exit\n",
      "  --version             show program's version number and exit\n",
      "  --citation            Display recommended citation information and exit\n",
      "                        (default: None)\n",
      "  -v, --verbose, --verbosity\n",
      "                        Increase output verbosity (default: 0)\n",
      "  --dump-locals         Dump local variables on serious log messages (warnings\n",
      "                        or higher) (default: False)\n",
      "  --retry N, --retries N\n",
      "                        When the connection fails or the server returns an\n",
      "                        unexpected response, retry up to N times with an\n",
      "                        exponential backoff (default: 3)\n",
      "  -n N, --max-results N\n",
      "                        Only return the first N results (default: None)\n",
      "  -f FORMAT, --format FORMAT\n",
      "                        Output format (default: None)\n",
      "  --jsonl               Output JSONL (default: False)\n",
      "  --with-entity         Include the entity (e.g. user, channel) as the first\n",
      "                        output item (default: False)\n",
      "  --since DATETIME      Only return results newer than DATETIME (default:\n",
      "                        None)\n",
      "  --progress            Report progress on stderr (default: False)\n",
      "\n",
      "scrapers:\n",
      "  SCRAPER\n",
      "    facebook-community\n",
      "    facebook-group\n",
      "    facebook-user\n",
      "    instagram-hashtag\n",
      "    instagram-location\n",
      "    instagram-user\n",
      "    reddit-search\n",
      "    reddit-subreddit\n",
      "    reddit-user\n",
      "    telegram-channel\n",
      "    twitter-hashtag\n",
      "    twitter-list-posts\n",
      "    twitter-profile\n",
      "    twitter-search\n",
      "    twitter-trends\n",
      "    twitter-tweet\n",
      "    twitter-user\n",
      "    vkontakte-user\n",
      "    weibo-user\n"
     ]
    }
   ],
   "source": [
    "!snscrape --help"
   ]
  },
  {
   "cell_type": "code",
   "execution_count": 22,
   "id": "677e7f8a-bce8-4f51-8401-1015c573a799",
   "metadata": {},
   "outputs": [
    {
     "name": "stdout",
     "output_type": "stream",
     "text": [
      "https://old.reddit.com/r/wallstreetbets/comments/rnzhia/my_1st_yolo_of_2022/\n",
      "https://old.reddit.com/r/wallstreetbets/comments/rnu049/ive_had_an_epiphany_or_am_i_retarted_you_tell_me/hpve4le/\n",
      "https://old.reddit.com/r/wallstreetbets/comments/rn57su/weekend_discussion_thread_for_the_weekend_of/hpve4fh/\n",
      "https://old.reddit.com/r/wallstreetbets/comments/rn57su/weekend_discussion_thread_for_the_weekend_of/hpve472/\n",
      "https://old.reddit.com/r/wallstreetbets/comments/rntoow/suspicions_about_tsla/hpve44p/\n",
      "https://old.reddit.com/r/wallstreetbets/comments/rn57su/weekend_discussion_thread_for_the_weekend_of/hpve3zd/\n",
      "https://old.reddit.com/r/wallstreetbets/comments/rn57su/weekend_discussion_thread_for_the_weekend_of/hpve3y5/\n",
      "https://old.reddit.com/r/wallstreetbets/comments/rn57su/weekend_discussion_thread_for_the_weekend_of/hpve3y0/\n",
      "https://old.reddit.com/r/wallstreetbets/comments/rn57su/weekend_discussion_thread_for_the_weekend_of/hpve3uj/\n",
      "https://old.reddit.com/r/wallstreetbets/comments/rnqc01/imma_self_revive/hpve3pt/\n"
     ]
    }
   ],
   "source": [
    "!snscrape -n 10 reddit-subreddit WallStreetBets"
   ]
  },
  {
   "cell_type": "code",
   "execution_count": 23,
   "id": "4b6e9b0c-0c6a-4819-8ed5-bbbe7578183d",
   "metadata": {},
   "outputs": [
    {
     "name": "stdout",
     "output_type": "stream",
     "text": [
      "https://old.reddit.com/r/SatoshiStreetBets/comments/rnzgpg/youre_best_friend_is_a_huge_nft_guy_this_super/\n",
      "https://old.reddit.com/r/SatoshiStreetBets/comments/rn9283/why_audits_are_critical_important_elements_to/hpvdzf1/\n",
      "https://old.reddit.com/r/SatoshiStreetBets/comments/rn8zt7/after_a_successful_partnership_with_tezos_cea/hpvdxt4/\n",
      "https://old.reddit.com/r/SatoshiStreetBets/comments/rnwvtg/why_does_she_have_to_do_that/hpvdhgn/\n",
      "https://old.reddit.com/r/SatoshiStreetBets/comments/rnk0c8/just_13_million_bitcoin_left_circulating_on/hpvccqa/\n",
      "https://old.reddit.com/r/SatoshiStreetBets/comments/rnb10l/3171_of_the_total_iota_supply_committed_to/hpvc0rj/\n",
      "https://old.reddit.com/r/SatoshiStreetBets/comments/rnb10l/3171_of_the_total_iota_supply_committed_to/hpvbsca/\n",
      "https://old.reddit.com/r/SatoshiStreetBets/comments/rntj22/this_holiday_season_give_the_gift_that_shits_on/hpvbej4/\n",
      "https://old.reddit.com/r/SatoshiStreetBets/comments/rnar2n/wondering_if_i_should_jump_ship_and_invest_in_the/hpvb93g/\n",
      "https://old.reddit.com/r/SatoshiStreetBets/comments/rnk0c8/just_13_million_bitcoin_left_circulating_on/hpvaier/\n"
     ]
    }
   ],
   "source": [
    "!snscrape -n 10 reddit-subreddit SatoshiStreetBets"
   ]
  },
  {
   "cell_type": "code",
   "execution_count": 24,
   "id": "b7cf72f7-ed2d-4166-8c0e-d123c3cb074d",
   "metadata": {},
   "outputs": [
    {
     "name": "stdout",
     "output_type": "stream",
     "text": [
      "https://old.reddit.com/r/ethereum/comments/rnti42/billionaires_are_backing_bitcoin_over_gold_but/hpve3ui/\n",
      "https://old.reddit.com/r/ico/comments/rnzfwn/elonxmas_just_launched_best_tokenomics_big/\n",
      "https://old.reddit.com/r/CryptoMoonCoins/comments/rnzf3m/elonxmas_just_launched_best_tokenomics_big/\n",
      "https://old.reddit.com/r/cryptostreetbets/comments/rnzeqq/elonxmas_just_launched_best_tokenomics_big/\n",
      "https://old.reddit.com/r/pelis28/comments/rnzdxr/yoshihiro_nakamura_adapta_una_novela_histórica_de/\n",
      "https://old.reddit.com/r/pelis28/comments/rnzds8/yoshihiro_nakamura_adapta_una_novela_histórica_de/\n",
      "https://old.reddit.com/r/SatoshiBets/comments/rnzchj/elonxmas_just_launched_best_tokenomics_big/\n",
      "https://old.reddit.com/r/Bitcoin/comments/rnenqs/daily_discussion_december_24_2021/hpvd8qk/\n",
      "https://old.reddit.com/r/ico/comments/rnz85b/elonxmas_just_launched_best_tokenomics_big/\n",
      "https://old.reddit.com/r/CryptoMoonCoins/comments/rnz7uh/elonxmas_just_launched_best_tokenomics_big/\n"
     ]
    }
   ],
   "source": [
    "!snscrape -n 10 reddit-search satoshi"
   ]
  },
  {
   "cell_type": "code",
   "execution_count": 26,
   "id": "2a6fd750-181d-4287-b0e7-783747624dd9",
   "metadata": {},
   "outputs": [
    {
     "name": "stdout",
     "output_type": "stream",
     "text": [
      "https://twitter.com/search?q=Santa\n",
      "https://twitter.com/search?q=Rudolph\n",
      "https://twitter.com/search?q=Coquito\n",
      "https://twitter.com/search?q=Ho%20Ho%20Ho\n",
      "https://twitter.com/search?q=%23ProBlackYTdating\n",
      "https://twitter.com/search?q=Gremlins\n",
      "https://twitter.com/search?q=The%20Preacher\n",
      "https://twitter.com/search?q=Captain%20Kangaroo\n",
      "https://twitter.com/search?q=Friday%20After%20Next\n",
      "https://twitter.com/search?q=Grinch\n"
     ]
    }
   ],
   "source": [
    "!snscrape -n 10 twitter-trends "
   ]
  },
  {
   "cell_type": "code",
   "execution_count": 38,
   "id": "50b69982-b8b0-4c28-9d86-eac30253999d",
   "metadata": {},
   "outputs": [],
   "source": [
    "!snscrape -n 10 --jsonl twitter-hashtag bitcoin >tmp.json"
   ]
  },
  {
   "cell_type": "code",
   "execution_count": 30,
   "id": "41494d4d-77de-496c-aa9f-cf9372c6d3bb",
   "metadata": {},
   "outputs": [
    {
     "name": "stdout",
     "output_type": "stream",
     "text": [
      "Collecting pandas\n",
      "  Downloading pandas-1.3.5-cp39-cp39-manylinux_2_17_x86_64.manylinux2014_x86_64.whl (11.5 MB)\n",
      "\u001b[K     |████████████████████████████████| 11.5 MB 2.9 MB/s eta 0:00:01\n",
      "\u001b[?25hRequirement already satisfied: python-dateutil>=2.7.3 in /home/studio-lab-user/.conda/envs/default/lib/python3.9/site-packages (from pandas) (2.8.2)\n",
      "Collecting numpy>=1.17.3\n",
      "  Downloading numpy-1.21.5-cp39-cp39-manylinux_2_12_x86_64.manylinux2010_x86_64.whl (15.7 MB)\n",
      "\u001b[K     |████████████████████████████████| 15.7 MB 62.0 MB/s eta 0:00:01    |███▍                            | 1.6 MB 62.0 MB/s eta 0:00:01\n",
      "\u001b[?25hCollecting pytz>=2017.3\n",
      "  Using cached pytz-2021.3-py2.py3-none-any.whl (503 kB)\n",
      "Requirement already satisfied: six>=1.5 in /home/studio-lab-user/.conda/envs/default/lib/python3.9/site-packages (from python-dateutil>=2.7.3->pandas) (1.16.0)\n",
      "Installing collected packages: pytz, numpy, pandas\n",
      "Successfully installed numpy-1.21.5 pandas-1.3.5 pytz-2021.3\n"
     ]
    }
   ],
   "source": [
    "!pip install pandas"
   ]
  },
  {
   "cell_type": "code",
   "execution_count": 39,
   "id": "8ec4ea7f-9ded-430c-9f78-a19a842c7ded",
   "metadata": {},
   "outputs": [
    {
     "ename": "JSONDecodeError",
     "evalue": "Extra data: line 2 column 1 (char 2618)",
     "output_type": "error",
     "traceback": [
      "\u001b[0;31m---------------------------------------------------------------------------\u001b[0m",
      "\u001b[0;31mJSONDecodeError\u001b[0m                           Traceback (most recent call last)",
      "\u001b[0;32m/tmp/ipykernel_86/3285588083.py\u001b[0m in \u001b[0;36m<module>\u001b[0;34m\u001b[0m\n\u001b[1;32m      4\u001b[0m \u001b[0;34m\u001b[0m\u001b[0m\n\u001b[1;32m      5\u001b[0m \u001b[0;32mwith\u001b[0m \u001b[0mopen\u001b[0m\u001b[0;34m(\u001b[0m\u001b[0;34m'tmp.json'\u001b[0m\u001b[0;34m,\u001b[0m\u001b[0;34m'r'\u001b[0m\u001b[0;34m)\u001b[0m \u001b[0;32mas\u001b[0m \u001b[0mf\u001b[0m\u001b[0;34m:\u001b[0m\u001b[0;34m\u001b[0m\u001b[0;34m\u001b[0m\u001b[0m\n\u001b[0;32m----> 6\u001b[0;31m     \u001b[0mdata\u001b[0m \u001b[0;34m=\u001b[0m \u001b[0mjson\u001b[0m\u001b[0;34m.\u001b[0m\u001b[0mloads\u001b[0m\u001b[0;34m(\u001b[0m\u001b[0mf\u001b[0m\u001b[0;34m.\u001b[0m\u001b[0mread\u001b[0m\u001b[0;34m(\u001b[0m\u001b[0;34m)\u001b[0m\u001b[0;34m)\u001b[0m\u001b[0;34m\u001b[0m\u001b[0;34m\u001b[0m\u001b[0m\n\u001b[0m",
      "\u001b[0;32m~/.conda/envs/default/lib/python3.9/json/__init__.py\u001b[0m in \u001b[0;36mloads\u001b[0;34m(s, cls, object_hook, parse_float, parse_int, parse_constant, object_pairs_hook, **kw)\u001b[0m\n\u001b[1;32m    344\u001b[0m             \u001b[0mparse_int\u001b[0m \u001b[0;32mis\u001b[0m \u001b[0;32mNone\u001b[0m \u001b[0;32mand\u001b[0m \u001b[0mparse_float\u001b[0m \u001b[0;32mis\u001b[0m \u001b[0;32mNone\u001b[0m \u001b[0;32mand\u001b[0m\u001b[0;34m\u001b[0m\u001b[0;34m\u001b[0m\u001b[0m\n\u001b[1;32m    345\u001b[0m             parse_constant is None and object_pairs_hook is None and not kw):\n\u001b[0;32m--> 346\u001b[0;31m         \u001b[0;32mreturn\u001b[0m \u001b[0m_default_decoder\u001b[0m\u001b[0;34m.\u001b[0m\u001b[0mdecode\u001b[0m\u001b[0;34m(\u001b[0m\u001b[0ms\u001b[0m\u001b[0;34m)\u001b[0m\u001b[0;34m\u001b[0m\u001b[0;34m\u001b[0m\u001b[0m\n\u001b[0m\u001b[1;32m    347\u001b[0m     \u001b[0;32mif\u001b[0m \u001b[0mcls\u001b[0m \u001b[0;32mis\u001b[0m \u001b[0;32mNone\u001b[0m\u001b[0;34m:\u001b[0m\u001b[0;34m\u001b[0m\u001b[0;34m\u001b[0m\u001b[0m\n\u001b[1;32m    348\u001b[0m         \u001b[0mcls\u001b[0m \u001b[0;34m=\u001b[0m \u001b[0mJSONDecoder\u001b[0m\u001b[0;34m\u001b[0m\u001b[0;34m\u001b[0m\u001b[0m\n",
      "\u001b[0;32m~/.conda/envs/default/lib/python3.9/json/decoder.py\u001b[0m in \u001b[0;36mdecode\u001b[0;34m(self, s, _w)\u001b[0m\n\u001b[1;32m    338\u001b[0m         \u001b[0mend\u001b[0m \u001b[0;34m=\u001b[0m \u001b[0m_w\u001b[0m\u001b[0;34m(\u001b[0m\u001b[0ms\u001b[0m\u001b[0;34m,\u001b[0m \u001b[0mend\u001b[0m\u001b[0;34m)\u001b[0m\u001b[0;34m.\u001b[0m\u001b[0mend\u001b[0m\u001b[0;34m(\u001b[0m\u001b[0;34m)\u001b[0m\u001b[0;34m\u001b[0m\u001b[0;34m\u001b[0m\u001b[0m\n\u001b[1;32m    339\u001b[0m         \u001b[0;32mif\u001b[0m \u001b[0mend\u001b[0m \u001b[0;34m!=\u001b[0m \u001b[0mlen\u001b[0m\u001b[0;34m(\u001b[0m\u001b[0ms\u001b[0m\u001b[0;34m)\u001b[0m\u001b[0;34m:\u001b[0m\u001b[0;34m\u001b[0m\u001b[0;34m\u001b[0m\u001b[0m\n\u001b[0;32m--> 340\u001b[0;31m             \u001b[0;32mraise\u001b[0m \u001b[0mJSONDecodeError\u001b[0m\u001b[0;34m(\u001b[0m\u001b[0;34m\"Extra data\"\u001b[0m\u001b[0;34m,\u001b[0m \u001b[0ms\u001b[0m\u001b[0;34m,\u001b[0m \u001b[0mend\u001b[0m\u001b[0;34m)\u001b[0m\u001b[0;34m\u001b[0m\u001b[0;34m\u001b[0m\u001b[0m\n\u001b[0m\u001b[1;32m    341\u001b[0m         \u001b[0;32mreturn\u001b[0m \u001b[0mobj\u001b[0m\u001b[0;34m\u001b[0m\u001b[0;34m\u001b[0m\u001b[0m\n\u001b[1;32m    342\u001b[0m \u001b[0;34m\u001b[0m\u001b[0m\n",
      "\u001b[0;31mJSONDecodeError\u001b[0m: Extra data: line 2 column 1 (char 2618)"
     ]
    }
   ],
   "source": [
    "import pandas as pd\n",
    "import json\n",
    "\n",
    "\n",
    "with open('tmp.json','r') as f:\n",
    "    data = json.loads(f.read())"
   ]
  },
  {
   "cell_type": "code",
   "execution_count": 34,
   "id": "e67dc1e3-1cb9-4146-aa8a-8853e58651ca",
   "metadata": {},
   "outputs": [
    {
     "name": "stdout",
     "output_type": "stream",
     "text": [
      "{\"_type\": \"snscrape.modules.twitter.Tweet\", \"url\": \"https://twitter.com/waykewlstuff/status/1474553837126139909\", \"date\": \"2021-12-25T01:33:25+00:00\", \"content\": \"Do you know any Twitter accounts supporting the lengthening $BTC cycle hypothesis w/ analysis\\u2753\\n\\nI'm creating a list. Adding @intocryptoverse &amp; @KrownCryptoCave, of course. \\n\\nAny suggestions are appreciated. \\ud83d\\ude4f\\n\\n#Bitcoin #BTC  $ETH $XRP $ADA $SOL $MANA $SAND $DOGE $SHIB $AXS $BNB https://t.co/0alHDUNwA6\", \"renderedContent\": \"Do you know any Twitter accounts supporting the lengthening $BTC cycle hypothesis w/ analysis\\u2753\\n\\nI'm creating a list. Adding @intocryptoverse &amp; @KrownCryptoCave, of course. \\n\\nAny suggestions are appreciated. \\ud83d\\ude4f\\n\\n#Bitcoin #BTC  $ETH $XRP $ADA $SOL $MANA $SAND $DOGE $SHIB $AXS $BNB https://t.co/0alHDUNwA6\", \"id\": 1474553837126139909, \"user\": {\"_type\": \"snscrape.modules.twitter.User\", \"username\": \"waykewlstuff\", \"id\": 3326406251, \"displayname\": \"Way Kewl Stuff \\ud83c\\udf65\", \"description\": \"$SPIN Musician/Artist/Investor ~Crypto Polls~ #Metaverse #NFTs #P2E #Gamefi $PYR $WILD $THG $SIDUS $NAKA #MAYC @BoredApeYC @TheDogePoundNFT @nftworldsNFT #BLU\", \"rawDescription\": \"$SPIN Musician/Artist/Investor ~Crypto Polls~ #Metaverse #NFTs #P2E #Gamefi $PYR $WILD $THG $SIDUS $NAKA #MAYC @BoredApeYC @TheDogePoundNFT @nftworldsNFT #BLU\", \"descriptionUrls\": null, \"verified\": false, \"created\": \"2015-06-15T07:10:12+00:00\", \"followersCount\": 3568, \"friendsCount\": 5000, \"statusesCount\": 33093, \"favouritesCount\": 75378, \"listedCount\": 29, \"mediaCount\": 1313, \"location\": \"\", \"protected\": false, \"linkUrl\": \"https://www.wilderworld.com/\", \"linkTcourl\": \"https://t.co/YCfeQ0ROnT\", \"profileImageUrl\": \"https://pbs.twimg.com/profile_images/1473004044054630411/MJZjnLPB_normal.jpg\", \"profileBannerUrl\": \"https://pbs.twimg.com/profile_banners/3326406251/1639866670\", \"label\": null, \"url\": \"https://twitter.com/waykewlstuff\"}, \"replyCount\": 0, \"retweetCount\": 0, \"likeCount\": 0, \"quoteCount\": 0, \"conversationId\": 1474553837126139909, \"lang\": \"en\", \"source\": \"<a href=\\\"https://mobile.twitter.com\\\" rel=\\\"nofollow\\\">Twitter Web App</a>\", \"sourceUrl\": \"https://mobile.twitter.com\", \"sourceLabel\": \"Twitter Web App\", \"outlinks\": null, \"tcooutlinks\": null, \"media\": [{\"_type\": \"snscrape.modules.twitter.Photo\", \"previewUrl\": \"https://pbs.twimg.com/media/FHaqsGGX0A05Ome?format=png&name=small\", \"fullUrl\": \"https://pbs.twimg.com/media/FHaqsGGX0A05Ome?format=png&name=large\"}], \"retweetedTweet\": null, \"quotedTweet\": null, \"inReplyToTweetId\": null, \"inReplyToUser\": null, \"mentionedUsers\": [{\"_type\": \"snscrape.modules.twitter.User\", \"username\": \"intocryptoverse\", \"id\": 943506806931734528, \"displayname\": \"Benjamin Cowen\", \"description\": null, \"rawDescription\": null, \"descriptionUrls\": null, \"verified\": null, \"created\": null, \"followersCount\": null, \"friendsCount\": null, \"statusesCount\": null, \"favouritesCount\": null, \"listedCount\": null, \"mediaCount\": null, \"location\": null, \"protected\": null, \"linkUrl\": null, \"linkTcourl\": null, \"profileImageUrl\": null, \"profileBannerUrl\": null, \"label\": null, \"url\": \"https://twitter.com/intocryptoverse\"}, {\"_type\": \"snscrape.modules.twitter.User\", \"username\": \"KrownCryptoCave\", \"id\": 807022837777203201, \"displayname\": \"Eric Crown\", \"description\": null, \"rawDescription\": null, \"descriptionUrls\": null, \"verified\": null, \"created\": null, \"followersCount\": null, \"friendsCount\": null, \"statusesCount\": null, \"favouritesCount\": null, \"listedCount\": null, \"mediaCount\": null, \"location\": null, \"protected\": null, \"linkUrl\": null, \"linkTcourl\": null, \"profileImageUrl\": null, \"profileBannerUrl\": null, \"label\": null, \"url\": \"https://twitter.com/KrownCryptoCave\"}], \"coordinates\": null, \"place\": null, \"hashtags\": [\"Bitcoin\", \"BTC\"], \"cashtags\": [\"BTC\", \"ETH\", \"XRP\", \"ADA\", \"SOL\", \"MANA\", \"SAND\", \"DOGE\", \"SHIB\", \"AXS\", \"BNB\"]}\n",
      "{\"_type\": \"snscrape.modules.twitter.Tweet\", \"url\": \"https://twitter.com/Johurul64508616/status/1474553822273957890\", \"date\": \"2021-12-25T01:33:21+00:00\", \"content\": \"#Bitcoin #Cryptocurrency https://t.co/fxUOI2LqKw\", \"renderedContent\": \"#Bitcoin #Cryptocurrency latoken.com/airdrops/entra\\u2026\", \"id\": 1474553822273957890, \"user\": {\"_type\": \"snscrape.modules.twitter.User\", \"username\": \"Johurul64508616\", \"id\": 1379980169885065216, \"displayname\": \"Johurul\", \"description\": \"Nothing\", \"rawDescription\": \"Nothing\", \"descriptionUrls\": null, \"verified\": false, \"created\": \"2021-04-08T02:11:36+00:00\", \"followersCount\": 133, \"friendsCount\": 1347, \"statusesCount\": 1423, \"favouritesCount\": 895, \"listedCount\": 1, \"mediaCount\": 7, \"location\": \"\", \"protected\": false, \"linkUrl\": null, \"linkTcourl\": null, \"profileImageUrl\": \"https://pbs.twimg.com/profile_images/1379980578053705728/h1KsSquk_normal.jpg\", \"profileBannerUrl\": null, \"label\": null, \"url\": \"https://twitter.com/Johurul64508616\"}, \"replyCount\": 0, \"retweetCount\": 0, \"likeCount\": 0, \"quoteCount\": 0, \"conversationId\": 1474553822273957890, \"lang\": \"und\", \"source\": \"<a href=\\\"https://mobile.twitter.com\\\" rel=\\\"nofollow\\\">Twitter Web App</a>\", \"sourceUrl\": \"https://mobile.twitter.com\", \"sourceLabel\": \"Twitter Web App\", \"outlinks\": [\"https://latoken.com/airdrops/entrance?refcode=dphhvfav&airdrop=MOT&source=twp\"], \"tcooutlinks\": [\"https://t.co/fxUOI2LqKw\"], \"media\": null, \"retweetedTweet\": null, \"quotedTweet\": null, \"inReplyToTweetId\": null, \"inReplyToUser\": null, \"mentionedUsers\": null, \"coordinates\": null, \"place\": null, \"hashtags\": [\"Bitcoin\", \"Cryptocurrency\"], \"cashtags\": null}\n",
      "{\"_type\": \"snscrape.modules.twitter.Tweet\", \"url\": \"https://twitter.com/OnThaRoccs/status/1474553799385755650\", \"date\": \"2021-12-25T01:33:16+00:00\", \"content\": \"I knew I liked this guy! \\n\\n@MacJones_10 \\n#gopats #bitcoin https://t.co/uMxQxRTQ6Y\", \"renderedContent\": \"I knew I liked this guy! \\n\\n@MacJones_10 \\n#gopats #bitcoin twitter.com/bitcoinmagazin\\u2026\", \"id\": 1474553799385755650, \"user\": {\"_type\": \"snscrape.modules.twitter.User\", \"username\": \"OnThaRoccs\", \"id\": 497494571, \"displayname\": \"Nick Marrocco\", \"description\": \"Pro Athlete & Entrepreneur | Co-Founder @peakprosport | Pro Lacrosse @pllcannons | Crypto | Real Estate | Author | Building The Future\", \"rawDescription\": \"Pro Athlete & Entrepreneur | Co-Founder @peakprosport | Pro Lacrosse @pllcannons | Crypto | Real Estate | Author | Building The Future\", \"descriptionUrls\": null, \"verified\": false, \"created\": \"2012-02-20T02:04:49+00:00\", \"followersCount\": 1076, \"friendsCount\": 1034, \"statusesCount\": 1310, \"favouritesCount\": 7628, \"listedCount\": 5, \"mediaCount\": 83, \"location\": \"Boston, MA\", \"protected\": false, \"linkUrl\": \"https://linktr.ee/nickmarrocco\", \"linkTcourl\": \"https://t.co/m3D5u6pcxh\", \"profileImageUrl\": \"https://pbs.twimg.com/profile_images/1423273857453072385/QsrGkI10_normal.jpg\", \"profileBannerUrl\": \"https://pbs.twimg.com/profile_banners/497494571/1594696540\", \"label\": null, \"url\": \"https://twitter.com/OnThaRoccs\"}, \"replyCount\": 0, \"retweetCount\": 0, \"likeCount\": 0, \"quoteCount\": 0, \"conversationId\": 1474553799385755650, \"lang\": \"en\", \"source\": \"<a href=\\\"http://twitter.com/download/iphone\\\" rel=\\\"nofollow\\\">Twitter for iPhone</a>\", \"sourceUrl\": \"http://twitter.com/download/iphone\", \"sourceLabel\": \"Twitter for iPhone\", \"outlinks\": [\"https://twitter.com/bitcoinmagazine/status/1474510094565924864\"], \"tcooutlinks\": [\"https://t.co/uMxQxRTQ6Y\"], \"media\": null, \"retweetedTweet\": null, \"quotedTweet\": {\"_type\": \"snscrape.modules.twitter.Tweet\", \"url\": \"https://twitter.com/BitcoinMagazine/status/1474510094565924864\", \"date\": \"2021-12-24T22:39:36+00:00\", \"content\": \"\\ud83c\\udf84BREAKING - Patriots quarterback 'Santa Mac' Jones gifts #Bitcoin to entire offensive line \\ud83c\\udf81 https://t.co/w2oUJzzvHY\", \"renderedContent\": \"\\ud83c\\udf84BREAKING - Patriots quarterback 'Santa Mac' Jones gifts #Bitcoin to entire offensive line \\ud83c\\udf81 https://t.co/w2oUJzzvHY\", \"id\": 1474510094565924864, \"user\": {\"_type\": \"snscrape.modules.twitter.User\", \"username\": \"BitcoinMagazine\", \"id\": 361289499, \"displayname\": \"Bitcoin Magazine\", \"description\": \"The Most Trusted Voice In #Bitcoin\\u2022 Conference \\ud83c\\udf9f b.tc/conference \\n\\u2022 Watch \\ud83c\\udfa5 b.tc/youtube \\u2022 Learn \\u26a1\\ufe0fb.tc/21days\", \"rawDescription\": \"The Most Trusted Voice In #Bitcoin\\u2022 Conference \\ud83c\\udf9f https://t.co/yyaMwgovcY \\n\\u2022 Watch \\ud83c\\udfa5 https://t.co/40Ta8mLjno \\u2022 Learn \\u26a1\\ufe0fhttps://t.co/WKaX5JCxh9\", \"descriptionUrls\": [{\"text\": \"b.tc/conference\", \"url\": \"http://b.tc/conference\", \"tcourl\": \"https://t.co/yyaMwgovcY\", \"indices\": [49, 72]}, {\"text\": \"b.tc/youtube\", \"url\": \"http://b.tc/youtube\", \"tcourl\": \"https://t.co/40Ta8mLjno\", \"indices\": [84, 107]}, {\"text\": \"b.tc/21days\", \"url\": \"http://b.tc/21days\", \"tcourl\": \"https://t.co/WKaX5JCxh9\", \"indices\": [118, 141]}], \"verified\": true, \"created\": \"2011-08-24T15:14:54+00:00\", \"followersCount\": 1824666, \"friendsCount\": 658, \"statusesCount\": 19485, \"favouritesCount\": 20490, \"listedCount\": 11788, \"mediaCount\": 7110, \"location\": \"Nashville, TN\", \"protected\": false, \"linkUrl\": \"http://BitcoinMagazine.com\", \"linkTcourl\": \"https://t.co/UPj0DCrpdu\", \"profileImageUrl\": \"https://pbs.twimg.com/profile_images/1444022922377576453/AzvXYXGr_normal.jpg\", \"profileBannerUrl\": \"https://pbs.twimg.com/profile_banners/361289499/1628624645\", \"label\": null, \"url\": \"https://twitter.com/BitcoinMagazine\"}, \"replyCount\": 31, \"retweetCount\": 231, \"likeCount\": 1346, \"quoteCount\": 24, \"conversationId\": 1474510094565924864, \"lang\": \"en\", \"source\": \"<a href=\\\"https://mobile.twitter.com\\\" rel=\\\"nofollow\\\">Twitter Web App</a>\", \"sourceUrl\": \"https://mobile.twitter.com\", \"sourceLabel\": \"Twitter Web App\", \"outlinks\": null, \"tcooutlinks\": null, \"media\": [{\"_type\": \"snscrape.modules.twitter.Photo\", \"previewUrl\": \"https://pbs.twimg.com/media/FHZ7agXX0AYnt4z?format=jpg&name=small\", \"fullUrl\": \"https://pbs.twimg.com/media/FHZ7agXX0AYnt4z?format=jpg&name=large\"}], \"retweetedTweet\": null, \"quotedTweet\": null, \"inReplyToTweetId\": null, \"inReplyToUser\": null, \"mentionedUsers\": null, \"coordinates\": null, \"place\": null, \"hashtags\": [\"Bitcoin\"], \"cashtags\": null}, \"inReplyToTweetId\": null, \"inReplyToUser\": null, \"mentionedUsers\": [{\"_type\": \"snscrape.modules.twitter.User\", \"username\": \"MacJones_10\", \"id\": 2590447922, \"displayname\": \"Mac Jones\", \"description\": null, \"rawDescription\": null, \"descriptionUrls\": null, \"verified\": null, \"created\": null, \"followersCount\": null, \"friendsCount\": null, \"statusesCount\": null, \"favouritesCount\": null, \"listedCount\": null, \"mediaCount\": null, \"location\": null, \"protected\": null, \"linkUrl\": null, \"linkTcourl\": null, \"profileImageUrl\": null, \"profileBannerUrl\": null, \"label\": null, \"url\": \"https://twitter.com/MacJones_10\"}], \"coordinates\": null, \"place\": null, \"hashtags\": [\"gopats\", \"bitcoin\"], \"cashtags\": null}\n",
      "{\"_type\": \"snscrape.modules.twitter.Tweet\", \"url\": \"https://twitter.com/StandfieldKen/status/1474553796860674050\", \"date\": \"2021-12-25T01:33:15+00:00\", \"content\": \"Hi everyone!  Wishing everyone a great Christmas and festive season!  \\ud83e\\udd70\\ud83e\\udd73\\ud83d\\ude4f\\n\\nE378 #Bitcoin Merry Christmas #Crypto! #BTC #ETH #BNB #XRP #ADA #DOT #SOL #DOGE #SHIB #MATIC #AVAX #ICX #VRA #IOTA #DGB +++ \\n\\nhttps://t.co/O05QTqKNUy\", \"renderedContent\": \"Hi everyone!  Wishing everyone a great Christmas and festive season!  \\ud83e\\udd70\\ud83e\\udd73\\ud83d\\ude4f\\n\\nE378 #Bitcoin Merry Christmas #Crypto! #BTC #ETH #BNB #XRP #ADA #DOT #SOL #DOGE #SHIB #MATIC #AVAX #ICX #VRA #IOTA #DGB +++ \\n\\nyoutu.be/uUAoqANW0X8\", \"id\": 1474553796860674050, \"user\": {\"_type\": \"snscrape.modules.twitter.User\", \"username\": \"StandfieldKen\", \"id\": 1032222434831687680, \"displayname\": \"Ken Standfield\", \"description\": \"Crypto technical analyst trader.  Opinions are not financial advice.  Author. Statistician. Actuarial science.  FUD/FOMO free crypto analysis videos.\", \"rawDescription\": \"Crypto technical analyst trader.  Opinions are not financial advice.  Author. Statistician. Actuarial science.  FUD/FOMO free crypto analysis videos.\", \"descriptionUrls\": null, \"verified\": false, \"created\": \"2018-08-22T11:06:21+00:00\", \"followersCount\": 10359, \"friendsCount\": 3533, \"statusesCount\": 7485, \"favouritesCount\": 12336, \"listedCount\": 121, \"mediaCount\": 2024, \"location\": \"NOT FINANCIAL ADVICE\", \"protected\": false, \"linkUrl\": \"https://www.youtube.com/c/CryptoTradingKS\", \"linkTcourl\": \"https://t.co/LsL9YJT2Wl\", \"profileImageUrl\": \"https://pbs.twimg.com/profile_images/1249296490947735553/ZMPun5TV_normal.jpg\", \"profileBannerUrl\": \"https://pbs.twimg.com/profile_banners/1032222434831687680/1638335675\", \"label\": null, \"url\": \"https://twitter.com/StandfieldKen\"}, \"replyCount\": 0, \"retweetCount\": 0, \"likeCount\": 2, \"quoteCount\": 0, \"conversationId\": 1474553796860674050, \"lang\": \"en\", \"source\": \"<a href=\\\"https://mobile.twitter.com\\\" rel=\\\"nofollow\\\">Twitter Web App</a>\", \"sourceUrl\": \"https://mobile.twitter.com\", \"sourceLabel\": \"Twitter Web App\", \"outlinks\": [\"https://youtu.be/uUAoqANW0X8\"], \"tcooutlinks\": [\"https://t.co/O05QTqKNUy\"], \"media\": null, \"retweetedTweet\": null, \"quotedTweet\": null, \"inReplyToTweetId\": null, \"inReplyToUser\": null, \"mentionedUsers\": null, \"coordinates\": null, \"place\": null, \"hashtags\": [\"Bitcoin\", \"Crypto\", \"BTC\", \"ETH\", \"BNB\", \"XRP\", \"ADA\", \"DOT\", \"SOL\", \"DOGE\", \"SHIB\", \"MATIC\", \"AVAX\", \"ICX\", \"VRA\", \"IOTA\", \"DGB\"], \"cashtags\": null}\n",
      "{\"_type\": \"snscrape.modules.twitter.Tweet\", \"url\": \"https://twitter.com/weeblueghost/status/1474553785913589763\", \"date\": \"2021-12-25T01:33:13+00:00\", \"content\": \"- \\nBTC price: $51,011 / \\u00a338,103 \\n\\n19.6 Naks per USD\\n26.24 Naks per GBP\\n\\n&lt;price steady&gt; \\n\\nA #Nak is one millionth of a #Bitcoin so it is 100 #Sats. \\nIf a Sats are cents, Naks are dollars! \\n#SatoshiNakamoto \\n\\n25/12/2021  01:33:11 GMT https://t.co/TifT9WUTMK\", \"renderedContent\": \"- \\nBTC price: $51,011 / \\u00a338,103 \\n\\n19.6 Naks per USD\\n26.24 Naks per GBP\\n\\n&lt;price steady&gt; \\n\\nA #Nak is one millionth of a #Bitcoin so it is 100 #Sats. \\nIf a Sats are cents, Naks are dollars! \\n#SatoshiNakamoto \\n\\n25/12/2021  01:33:11 GMT https://t.co/TifT9WUTMK\", \"id\": 1474553785913589763, \"user\": {\"_type\": \"snscrape.modules.twitter.User\", \"username\": \"weeblueghost\", \"id\": 1317380967393353733, \"displayname\": \"Wee Blue Ghost\", \"description\": \"I'm a wee blue ghost haunting Twitter with Bitcoin price and Naks equivalents and Hex too!\", \"rawDescription\": \"I'm a wee blue ghost haunting Twitter with Bitcoin price and Naks equivalents and Hex too!\", \"descriptionUrls\": null, \"verified\": false, \"created\": \"2020-10-17T08:24:46+00:00\", \"followersCount\": 137, \"friendsCount\": 76, \"statusesCount\": 21046, \"favouritesCount\": 55, \"listedCount\": 2, \"mediaCount\": 20726, \"location\": \"\", \"protected\": false, \"linkUrl\": null, \"linkTcourl\": null, \"profileImageUrl\": \"https://pbs.twimg.com/profile_images/1395747535789170691/9jmpQM3__normal.jpg\", \"profileBannerUrl\": null, \"label\": null, \"url\": \"https://twitter.com/weeblueghost\"}, \"replyCount\": 0, \"retweetCount\": 0, \"likeCount\": 0, \"quoteCount\": 0, \"conversationId\": 1474553785913589763, \"lang\": \"en\", \"source\": \"<a href=\\\"https://help.twitter.com/en/using-twitter/how-to-tweet#source-labels\\\" rel=\\\"nofollow\\\">weeblueghost</a>\", \"sourceUrl\": \"https://help.twitter.com/en/using-twitter/how-to-tweet#source-labels\", \"sourceLabel\": \"weeblueghost\", \"outlinks\": null, \"tcooutlinks\": null, \"media\": [{\"_type\": \"snscrape.modules.twitter.Photo\", \"previewUrl\": \"https://pbs.twimg.com/media/E18Ww1SXIAEF0mb?format=jpg&name=small\", \"fullUrl\": \"https://pbs.twimg.com/media/E18Ww1SXIAEF0mb?format=jpg&name=large\"}], \"retweetedTweet\": null, \"quotedTweet\": null, \"inReplyToTweetId\": null, \"inReplyToUser\": null, \"mentionedUsers\": null, \"coordinates\": null, \"place\": null, \"hashtags\": [\"Nak\", \"Bitcoin\", \"Sats\", \"SatoshiNakamoto\"], \"cashtags\": null}\n",
      "{\"_type\": \"snscrape.modules.twitter.Tweet\", \"url\": \"https://twitter.com/bmurphypointman/status/1474553758940028932\", \"date\": \"2021-12-25T01:33:06+00:00\", \"content\": \"#linkedin #twitter #facebook #instagram #dogecoin #socialmedia #pinterest #doge #deal #gift #giftsforher #gifts #giftideas #shop #shopping #affiliatemarketing #bitcoin #freeshipping on purchases over $25 at #Amazon https://t.co/EynvCaoEnT\", \"renderedContent\": \"#linkedin #twitter #facebook #instagram #dogecoin #socialmedia #pinterest #doge #deal #gift #giftsforher #gifts #giftideas #shop #shopping #affiliatemarketing #bitcoin #freeshipping on purchases over $25 at #Amazon bit.ly/3uU8Ul1\", \"id\": 1474553758940028932, \"user\": {\"_type\": \"snscrape.modules.twitter.User\", \"username\": \"bmurphypointman\", \"id\": 617853906, \"displayname\": \"Brett Murphy\", \"description\": \"#affiliate #affiliatemarketing #bitcoin #blogger #business  #cryptocurrency  #deals #discount #gifts #marketing #shopping #socialmedia #travel #twitter #webtalk\", \"rawDescription\": \"#affiliate #affiliatemarketing #bitcoin #blogger #business  #cryptocurrency  #deals #discount #gifts #marketing #shopping #socialmedia #travel #twitter #webtalk\", \"descriptionUrls\": null, \"verified\": false, \"created\": \"2012-06-25T04:38:20+00:00\", \"followersCount\": 75691, \"friendsCount\": 18672, \"statusesCount\": 1513268, \"favouritesCount\": 24, \"listedCount\": 545, \"mediaCount\": 3322, \"location\": \"Bay Area, CA\", \"protected\": false, \"linkUrl\": \"https://www.brettmurphy.net/\", \"linkTcourl\": \"https://t.co/8wdGdAT11R\", \"profileImageUrl\": \"https://pbs.twimg.com/profile_images/1305061122630795265/lYYwb4gH_normal.jpg\", \"profileBannerUrl\": \"https://pbs.twimg.com/profile_banners/617853906/1630734437\", \"label\": null, \"url\": \"https://twitter.com/bmurphypointman\"}, \"replyCount\": 0, \"retweetCount\": 0, \"likeCount\": 0, \"quoteCount\": 0, \"conversationId\": 1474553758940028932, \"lang\": \"en\", \"source\": \"<a href=\\\"https://contentstudio.io\\\" rel=\\\"nofollow\\\">ContentStudio.io</a>\", \"sourceUrl\": \"https://contentstudio.io\", \"sourceLabel\": \"ContentStudio.io\", \"outlinks\": [\"https://bit.ly/3uU8Ul1\"], \"tcooutlinks\": [\"https://t.co/EynvCaoEnT\"], \"media\": null, \"retweetedTweet\": null, \"quotedTweet\": null, \"inReplyToTweetId\": null, \"inReplyToUser\": null, \"mentionedUsers\": null, \"coordinates\": null, \"place\": null, \"hashtags\": [\"linkedin\", \"twitter\", \"facebook\", \"instagram\", \"dogecoin\", \"socialmedia\", \"pinterest\", \"doge\", \"deal\", \"gift\", \"giftsforher\", \"gifts\", \"giftideas\", \"shop\", \"shopping\", \"affiliatemarketing\", \"bitcoin\", \"freeshipping\", \"Amazon\"], \"cashtags\": null}\n",
      "{\"_type\": \"snscrape.modules.twitter.Tweet\", \"url\": \"https://twitter.com/SamuelPMacD/status/1474553755022495745\", \"date\": \"2021-12-25T01:33:05+00:00\", \"content\": \"What\\u2019s even more amazing is when you know about tether and then realise that even if the doomers are right\\n\\n1 BTC is still worth 1 BTC\\n\\n#bitcoin https://t.co/K2yjFXbGkc\", \"renderedContent\": \"What\\u2019s even more amazing is when you know about tether and then realise that even if the doomers are right\\n\\n1 BTC is still worth 1 BTC\\n\\n#bitcoin twitter.com/philnick567/st\\u2026\", \"id\": 1474553755022495745, \"user\": {\"_type\": \"snscrape.modules.twitter.User\", \"username\": \"SamuelPMacD\", \"id\": 943587276444942336, \"displayname\": \"Sam MacDonald\", \"description\": \"Head Analyst at Crypto Consulting Institute Australia @JoeShew. Fix the money, fix the world. #bitcoin Freelance travel/finance writer and author.\", \"rawDescription\": \"Head Analyst at Crypto Consulting Institute Australia @JoeShew. Fix the money, fix the world. #bitcoin Freelance travel/finance writer and author.\", \"descriptionUrls\": null, \"verified\": false, \"created\": \"2017-12-20T21:01:52+00:00\", \"followersCount\": 449, \"friendsCount\": 1062, \"statusesCount\": 8450, \"favouritesCount\": 22783, \"listedCount\": 2, \"mediaCount\": 542, \"location\": \"Australia\", \"protected\": false, \"linkUrl\": \"http://www.writersblocktravels.com\", \"linkTcourl\": \"https://t.co/fMHFfx6DeF\", \"profileImageUrl\": \"https://pbs.twimg.com/profile_images/1125586965485707264/udEgWxvh_normal.jpg\", \"profileBannerUrl\": \"https://pbs.twimg.com/profile_banners/943587276444942336/1546348360\", \"label\": null, \"url\": \"https://twitter.com/SamuelPMacD\"}, \"replyCount\": 0, \"retweetCount\": 0, \"likeCount\": 0, \"quoteCount\": 0, \"conversationId\": 1474553755022495745, \"lang\": \"en\", \"source\": \"<a href=\\\"http://twitter.com/download/iphone\\\" rel=\\\"nofollow\\\">Twitter for iPhone</a>\", \"sourceUrl\": \"http://twitter.com/download/iphone\", \"sourceLabel\": \"Twitter for iPhone\", \"outlinks\": [\"https://twitter.com/philnick567/status/1474317681671258123\"], \"tcooutlinks\": [\"https://t.co/K2yjFXbGkc\"], \"media\": null, \"retweetedTweet\": null, \"quotedTweet\": {\"_type\": \"snscrape.modules.twitter.Tweet\", \"url\": \"https://twitter.com/philnick567/status/1474317681671258123\", \"date\": \"2021-12-24T09:55:01+00:00\", \"content\": \"It\\u2019s amazing how many people get into crypto and are oblivious about tether\", \"renderedContent\": \"It\\u2019s amazing how many people get into crypto and are oblivious about tether\", \"id\": 1474317681671258123, \"user\": {\"_type\": \"snscrape.modules.twitter.User\", \"username\": \"philnick567\", \"id\": 1609656240, \"displayname\": \"Paperhand\", \"description\": \"Early bitconnect investor, Onecoin blockchain developer and Mt. Gox still has my bitcoin\", \"rawDescription\": \"Early bitconnect investor, Onecoin blockchain developer and Mt. Gox still has my bitcoin\", \"descriptionUrls\": null, \"verified\": false, \"created\": \"2013-07-21T04:12:31+00:00\", \"followersCount\": 948, \"friendsCount\": 1074, \"statusesCount\": 3141, \"favouritesCount\": 23649, \"listedCount\": 6, \"mediaCount\": 454, \"location\": \"\", \"protected\": false, \"linkUrl\": \"https://linktr.ee/Nicklaus740\", \"linkTcourl\": \"https://t.co/jqBSao4cp2\", \"profileImageUrl\": \"https://pbs.twimg.com/profile_images/1380212362549080076/nRWJOeqU_normal.jpg\", \"profileBannerUrl\": \"https://pbs.twimg.com/profile_banners/1609656240/1638571632\", \"label\": null, \"url\": \"https://twitter.com/philnick567\"}, \"replyCount\": 12, \"retweetCount\": 8, \"likeCount\": 85, \"quoteCount\": 3, \"conversationId\": 1474317681671258123, \"lang\": \"en\", \"source\": \"<a href=\\\"http://twitter.com/download/iphone\\\" rel=\\\"nofollow\\\">Twitter for iPhone</a>\", \"sourceUrl\": \"http://twitter.com/download/iphone\", \"sourceLabel\": \"Twitter for iPhone\", \"outlinks\": null, \"tcooutlinks\": null, \"media\": null, \"retweetedTweet\": null, \"quotedTweet\": null, \"inReplyToTweetId\": null, \"inReplyToUser\": null, \"mentionedUsers\": null, \"coordinates\": null, \"place\": null, \"hashtags\": null, \"cashtags\": null}, \"inReplyToTweetId\": null, \"inReplyToUser\": null, \"mentionedUsers\": null, \"coordinates\": null, \"place\": null, \"hashtags\": [\"bitcoin\"], \"cashtags\": null}\n",
      "{\"_type\": \"snscrape.modules.twitter.Tweet\", \"url\": \"https://twitter.com/TheCryptoHead/status/1474553739625353219\", \"date\": \"2021-12-25T01:33:02+00:00\", \"content\": \"Mr.White is #Bitcoin\\nJesse is #Ethereum (\\\"high\\\" fees).\\nSaul Goodman is #Doge\\nGustavo Fring is #Binance \\n\\n#Crypto #NFT #Metaverse https://t.co/sOhvoYk6vB\", \"renderedContent\": \"Mr.White is #Bitcoin\\nJesse is #Ethereum (\\\"high\\\" fees).\\nSaul Goodman is #Doge\\nGustavo Fring is #Binance \\n\\n#Crypto #NFT #Metaverse https://t.co/sOhvoYk6vB\", \"id\": 1474553739625353219, \"user\": {\"_type\": \"snscrape.modules.twitter.User\", \"username\": \"TheCryptoHead\", \"id\": 995321760936538112, \"displayname\": \"The Crypto Head \\ud83c\\udf65\", \"description\": \"The Head of #Crypto\\n\\nMaking data driven #blockchain #investment decisions since 2014.\\n\\nTweets are my own views, please DYOR.\", \"rawDescription\": \"The Head of #Crypto\\n\\nMaking data driven #blockchain #investment decisions since 2014.\\n\\nTweets are my own views, please DYOR.\", \"descriptionUrls\": null, \"verified\": false, \"created\": \"2018-05-12T15:16:14+00:00\", \"followersCount\": 107, \"friendsCount\": 47, \"statusesCount\": 156, \"favouritesCount\": 77, \"listedCount\": 2, \"mediaCount\": 47, \"location\": \"\", \"protected\": false, \"linkUrl\": null, \"linkTcourl\": null, \"profileImageUrl\": \"https://pbs.twimg.com/profile_images/1453563394020331522/C_AUGwGl_normal.jpg\", \"profileBannerUrl\": \"https://pbs.twimg.com/profile_banners/995321760936538112/1635392862\", \"label\": null, \"url\": \"https://twitter.com/TheCryptoHead\"}, \"replyCount\": 0, \"retweetCount\": 0, \"likeCount\": 2, \"quoteCount\": 0, \"conversationId\": 1474553739625353219, \"lang\": \"en\", \"source\": \"<a href=\\\"http://twitter.com/download/android\\\" rel=\\\"nofollow\\\">Twitter for Android</a>\", \"sourceUrl\": \"http://twitter.com/download/android\", \"sourceLabel\": \"Twitter for Android\", \"outlinks\": null, \"tcooutlinks\": null, \"media\": [{\"_type\": \"snscrape.modules.twitter.Gif\", \"thumbnailUrl\": \"https://pbs.twimg.com/tweet_video_thumb/FHaqzgGWYAMzdUY.jpg\", \"variants\": [{\"_type\": \"snscrape.modules.twitter.VideoVariant\", \"contentType\": \"video/mp4\", \"url\": \"https://video.twimg.com/tweet_video/FHaqzgGWYAMzdUY.mp4\", \"bitrate\": 0}]}], \"retweetedTweet\": null, \"quotedTweet\": null, \"inReplyToTweetId\": null, \"inReplyToUser\": null, \"mentionedUsers\": null, \"coordinates\": null, \"place\": null, \"hashtags\": [\"Bitcoin\", \"Ethereum\", \"Doge\", \"Binance\", \"Crypto\", \"NFT\", \"Metaverse\"], \"cashtags\": null}\n",
      "{\"_type\": \"snscrape.modules.twitter.Tweet\", \"url\": \"https://twitter.com/Phil_3645/status/1474553705114574850\", \"date\": \"2021-12-25T01:32:53+00:00\", \"content\": \"None and I don't know #LATOKEN #Bitcoin #Cryptocurrency\", \"renderedContent\": \"None and I don't know #LATOKEN #Bitcoin #Cryptocurrency\", \"id\": 1474553705114574850, \"user\": {\"_type\": \"snscrape.modules.twitter.User\", \"username\": \"Phil_3645\", \"id\": 1468927665088389121, \"displayname\": \"Phil\", \"description\": \"\", \"rawDescription\": \"\", \"descriptionUrls\": null, \"verified\": false, \"created\": \"2021-12-09T12:59:53+00:00\", \"followersCount\": 0, \"friendsCount\": 4, \"statusesCount\": 4, \"favouritesCount\": 1, \"listedCount\": 0, \"mediaCount\": 0, \"location\": \"\", \"protected\": false, \"linkUrl\": null, \"linkTcourl\": null, \"profileImageUrl\": \"https://abs.twimg.com/sticky/default_profile_images/default_profile_normal.png\", \"profileBannerUrl\": null, \"label\": null, \"url\": \"https://twitter.com/Phil_3645\"}, \"replyCount\": 0, \"retweetCount\": 0, \"likeCount\": 0, \"quoteCount\": 0, \"conversationId\": 1474553705114574850, \"lang\": \"en\", \"source\": \"<a href=\\\"http://twitter.com/download/android\\\" rel=\\\"nofollow\\\">Twitter for Android</a>\", \"sourceUrl\": \"http://twitter.com/download/android\", \"sourceLabel\": \"Twitter for Android\", \"outlinks\": null, \"tcooutlinks\": null, \"media\": null, \"retweetedTweet\": null, \"quotedTweet\": null, \"inReplyToTweetId\": null, \"inReplyToUser\": null, \"mentionedUsers\": null, \"coordinates\": null, \"place\": null, \"hashtags\": [\"LATOKEN\", \"Bitcoin\", \"Cryptocurrency\"], \"cashtags\": null}\n",
      "{\"_type\": \"snscrape.modules.twitter.Tweet\", \"url\": \"https://twitter.com/BTC_Whale_Alert/status/1474553660847841280\", \"date\": \"2021-12-25T01:32:43+00:00\", \"content\": \"\\ud83d\\udc33\\ud83d\\udea8 Bitcoin Whale Alert: [ TX: 12fa23fe95ac0d9c9ca5e5f715b9e7932535595e235f3eb20ba6ccc69388cbd5 ]-[ ADDR: 32KjPxjHy3begY6E8mW8xmDUK7WmoWxpLC ]-[ #BTC: 17.96418293 ]-[ BLOCK_DATE: 2021-12-24 08:03:10 ] #btc_whale_alert #bitcoin\", \"renderedContent\": \"\\ud83d\\udc33\\ud83d\\udea8 Bitcoin Whale Alert: [ TX: 12fa23fe95ac0d9c9ca5e5f715b9e7932535595e235f3eb20ba6ccc69388cbd5 ]-[ ADDR: 32KjPxjHy3begY6E8mW8xmDUK7WmoWxpLC ]-[ #BTC: 17.96418293 ]-[ BLOCK_DATE: 2021-12-24 08:03:10 ] #btc_whale_alert #bitcoin\", \"id\": 1474553660847841280, \"user\": {\"_type\": \"snscrape.modules.twitter.User\", \"username\": \"BTC_Whale_Alert\", \"id\": 1444278817502208000, \"displayname\": \"Bitcoin_Whale_Alert\", \"description\": \"The most advanced #BTC bitcoin tracker and analytics system reporting large and interesting transactions as they happen.\", \"rawDescription\": \"The most advanced #BTC bitcoin tracker and analytics system reporting large and interesting transactions as they happen.\", \"descriptionUrls\": null, \"verified\": false, \"created\": \"2021-10-02T12:31:40+00:00\", \"followersCount\": 538, \"friendsCount\": 0, \"statusesCount\": 151144, \"favouritesCount\": 161, \"listedCount\": 4, \"mediaCount\": 1, \"location\": \"\", \"protected\": false, \"linkUrl\": \"https://github.com/scriptzteam/Bitcoin_Whale_Alert/\", \"linkTcourl\": \"https://t.co/vOkrmo2w8r\", \"profileImageUrl\": \"https://pbs.twimg.com/profile_images/1444322048050876425/qIrVa0C9_normal.png\", \"profileBannerUrl\": \"https://pbs.twimg.com/profile_banners/1444278817502208000/1633188719\", \"label\": null, \"url\": \"https://twitter.com/BTC_Whale_Alert\"}, \"replyCount\": 0, \"retweetCount\": 0, \"likeCount\": 0, \"quoteCount\": 0, \"conversationId\": 1474553660847841280, \"lang\": \"en\", \"source\": \"<a href=\\\"https://help.twitter.com/en/using-twitter/how-to-tweet#source-labels\\\" rel=\\\"nofollow\\\">Bitcoin Whale Alert</a>\", \"sourceUrl\": \"https://help.twitter.com/en/using-twitter/how-to-tweet#source-labels\", \"sourceLabel\": \"Bitcoin Whale Alert\", \"outlinks\": null, \"tcooutlinks\": null, \"media\": null, \"retweetedTweet\": null, \"quotedTweet\": null, \"inReplyToTweetId\": null, \"inReplyToUser\": null, \"mentionedUsers\": null, \"coordinates\": null, \"place\": null, \"hashtags\": [\"BTC\", \"btc_whale_alert\", \"bitcoin\"], \"cashtags\": null}\n"
     ]
    }
   ],
   "source": [
    "!cat tmp.json"
   ]
  },
  {
   "cell_type": "code",
   "execution_count": null,
   "id": "7d4c013d-8c4e-498c-b5a0-0d3fe7c03c3f",
   "metadata": {},
   "outputs": [],
   "source": []
  }
 ],
 "metadata": {
  "kernelspec": {
   "display_name": "default:Python",
   "language": "python",
   "name": "conda-env-default-py"
  },
  "language_info": {
   "codemirror_mode": {
    "name": "ipython",
    "version": 3
   },
   "file_extension": ".py",
   "mimetype": "text/x-python",
   "name": "python",
   "nbconvert_exporter": "python",
   "pygments_lexer": "ipython3",
   "version": "3.9.7"
  }
 },
 "nbformat": 4,
 "nbformat_minor": 5
}
