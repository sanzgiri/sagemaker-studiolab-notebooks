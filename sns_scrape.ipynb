{
 "cells": [
  {
   "cell_type": "markdown",
   "id": "63546b3d-e746-48f5-9674-49a4daaa9f5b",
   "metadata": {},
   "source": [
    "# SNS Scrape\n",
    "\n",
    "* https://github.com/JustAnotherArchivist/snscrape"
   ]
  },
  {
   "cell_type": "code",
   "execution_count": 16,
   "id": "29a6acbe-981e-45c9-8b38-7e27b3348d7e",
   "metadata": {},
   "outputs": [],
   "source": [
    "# https://github.com/JustAnotherArchivist/snscrape\n",
    "#!pip install snscrape\n",
    "#!pip install pandas "
   ]
  },
  {
   "cell_type": "code",
   "execution_count": 28,
   "id": "b7fb6256-1288-485f-8166-29103bb46da6",
   "metadata": {},
   "outputs": [
    {
     "name": "stdout",
     "output_type": "stream",
     "text": [
      "3.9.7 | packaged by conda-forge | (default, Sep 29 2021, 19:23:11) \n",
      "[GCC 9.4.0]\n"
     ]
    }
   ],
   "source": [
    "import sys\n",
    "import os\n",
    "import pandas as pd\n",
    "\n",
    "# snscrape requires python 3.8+\n",
    "print(sys.version)"
   ]
  },
  {
   "cell_type": "markdown",
   "id": "d8c97053-304c-4a98-819e-9844bfc15e77",
   "metadata": {},
   "source": [
    "### Get last 10 tweets from a specific user"
   ]
  },
  {
   "cell_type": "code",
   "execution_count": 4,
   "id": "4fdfd916-e437-44de-8595-dde3fc8d11b6",
   "metadata": {},
   "outputs": [
    {
     "name": "stdout",
     "output_type": "stream",
     "text": [
      "2021-12-26 15:03:25+00:00: While the original goal of AI is to produce human-like machines, in the end, machine learning will just end up making humans behave more like machines instead.\n",
      "https://t.co/MSJwupZ3dR\n",
      "2021-12-26 11:16:50+00:00: “Prosecutors in China already use an AI tool to evaluate evidence and assess how dangerous a suspect is to the public.” https://t.co/gkr8vymQlL\n",
      "2021-12-26 11:08:42+00:00: @wongmjane I ride an ox but I’m looking to upgrade to a horse!\n",
      "2021-12-26 09:46:25+00:00: This is why brains evolved. https://t.co/RvV5kzN9Gl\n",
      "2021-12-26 07:30:49+00:00: @tkasasagi I still have my original one somewhere in the basement.\n",
      "2021-12-24 13:28:46+00:00: @kaixhin I think there was a blog post a few years ago (in Japanese) about a GAN trained on clip art from his site.\n",
      "2021-12-24 13:06:07+00:00: @caranha @sina_lana .@sina_lana it really puzzles me how Japan escaped covid armageddon (with subpar testing+tracing to say the least) and even end up being one of the best performing nations. I haven’t really seen any proper scientific analysis apart from anecdotes from the media and “hot takes” …\n",
      "2021-12-24 09:37:15+00:00: Web 1.0 https://t.co/uHGfyd5tDi\n",
      "2021-12-24 01:31:22+00:00: @kastnerkyle Omicron pizza…\n",
      "2021-12-24 01:25:47+00:00: Now you can taste pizza on a “lickable” TV screen 🍕 https://t.co/PixxjInalp\n"
     ]
    }
   ],
   "source": [
    "!snscrape -n 10 --format '{date}: {content}' twitter-user hardmaru"
   ]
  },
  {
   "cell_type": "markdown",
   "id": "aba3eea5-f96e-4d0b-8342-2a3d5ff6a24e",
   "metadata": {},
   "source": [
    "### Get tweets after a certain date from a certain user"
   ]
  },
  {
   "cell_type": "code",
   "execution_count": 6,
   "id": "70cb874b-38d5-45ea-baa2-f53c0d745336",
   "metadata": {},
   "outputs": [
    {
     "name": "stdout",
     "output_type": "stream",
     "text": [
      "2021-12-26 15:03:25+00:00: While the original goal of AI is to produce human-like machines, in the end, machine learning will just end up making humans behave more like machines instead.\n",
      "https://t.co/MSJwupZ3dR\n",
      "2021-12-26 11:16:50+00:00: “Prosecutors in China already use an AI tool to evaluate evidence and assess how dangerous a suspect is to the public.” https://t.co/gkr8vymQlL\n",
      "2021-12-26 11:08:42+00:00: @wongmjane I ride an ox but I’m looking to upgrade to a horse!\n",
      "2021-12-26 09:46:25+00:00: This is why brains evolved. https://t.co/RvV5kzN9Gl\n",
      "2021-12-26 07:30:49+00:00: @tkasasagi I still have my original one somewhere in the basement.\n"
     ]
    }
   ],
   "source": [
    "!snscrape --since 2021-12-25 --format '{date}: {content}' twitter-user hardmaru"
   ]
  },
  {
   "cell_type": "markdown",
   "id": "8fd774c3-75f1-44da-9145-e18c02654513",
   "metadata": {},
   "source": [
    "###"
   ]
  },
  {
   "cell_type": "code",
   "execution_count": 7,
   "id": "f4de6fe9-91d6-4ddb-a42e-e5b89da4bec6",
   "metadata": {},
   "outputs": [
    {
     "name": "stdout",
     "output_type": "stream",
     "text": [
      "usage: snscrape [-h] [--version] [--citation] [-v] [--dump-locals] [--retry N]\n",
      "                [-n N] [-f FORMAT | --jsonl] [--with-entity]\n",
      "                [--since DATETIME] [--progress]\n",
      "                SCRAPER ...\n",
      "\n",
      "optional arguments:\n",
      "  -h, --help            show this help message and exit\n",
      "  --version             show program's version number and exit\n",
      "  --citation            Display recommended citation information and exit\n",
      "                        (default: None)\n",
      "  -v, --verbose, --verbosity\n",
      "                        Increase output verbosity (default: 0)\n",
      "  --dump-locals         Dump local variables on serious log messages (warnings\n",
      "                        or higher) (default: False)\n",
      "  --retry N, --retries N\n",
      "                        When the connection fails or the server returns an\n",
      "                        unexpected response, retry up to N times with an\n",
      "                        exponential backoff (default: 3)\n",
      "  -n N, --max-results N\n",
      "                        Only return the first N results (default: None)\n",
      "  -f FORMAT, --format FORMAT\n",
      "                        Output format (default: None)\n",
      "  --jsonl               Output JSONL (default: False)\n",
      "  --with-entity         Include the entity (e.g. user, channel) as the first\n",
      "                        output item (default: False)\n",
      "  --since DATETIME      Only return results newer than DATETIME (default:\n",
      "                        None)\n",
      "  --progress            Report progress on stderr (default: False)\n",
      "\n",
      "scrapers:\n",
      "  SCRAPER\n",
      "    facebook-community\n",
      "    facebook-group\n",
      "    facebook-user\n",
      "    instagram-hashtag\n",
      "    instagram-location\n",
      "    instagram-user\n",
      "    reddit-search\n",
      "    reddit-subreddit\n",
      "    reddit-user\n",
      "    telegram-channel\n",
      "    twitter-hashtag\n",
      "    twitter-list-posts\n",
      "    twitter-profile\n",
      "    twitter-search\n",
      "    twitter-trends\n",
      "    twitter-tweet\n",
      "    twitter-user\n",
      "    vkontakte-user\n",
      "    weibo-user\n"
     ]
    }
   ],
   "source": [
    "!snscrape --help"
   ]
  },
  {
   "cell_type": "code",
   "execution_count": 8,
   "id": "677e7f8a-bce8-4f51-8401-1015c573a799",
   "metadata": {},
   "outputs": [
    {
     "name": "stdout",
     "output_type": "stream",
     "text": [
      "https://old.reddit.com/r/wallstreetbets/comments/rp8rv8/which_one_is_better/\n",
      "https://old.reddit.com/r/wallstreetbets/comments/rp5kpz/what_are_your_moves_tomorrow_december_27_2021/hq2xkj6/\n",
      "https://old.reddit.com/r/wallstreetbets/comments/rp5kpz/what_are_your_moves_tomorrow_december_27_2021/hq2xjuq/\n",
      "https://old.reddit.com/r/wallstreetbets/comments/rp5kpz/what_are_your_moves_tomorrow_december_27_2021/hq2xjej/\n",
      "https://old.reddit.com/r/wallstreetbets/comments/rp8pye/my_wife_when_tsla_goes_below_1000/hq2xj7a/\n",
      "https://old.reddit.com/r/wallstreetbets/comments/rp5que/when_retards_ask_me_how_my_420k_tsla_fd_yolo_is/hq2xj1g/\n",
      "https://old.reddit.com/r/wallstreetbets/comments/rp5kpz/what_are_your_moves_tomorrow_december_27_2021/hq2xj1f/\n",
      "https://old.reddit.com/r/wallstreetbets/comments/rp5kpz/what_are_your_moves_tomorrow_december_27_2021/hq2xicd/\n",
      "https://old.reddit.com/r/wallstreetbets/comments/rp5kpz/what_are_your_moves_tomorrow_december_27_2021/hq2xi6f/\n",
      "https://old.reddit.com/r/wallstreetbets/comments/roz0ii/just_one_more_try/hq2xi0m/\n"
     ]
    }
   ],
   "source": [
    "!snscrape -n 10 reddit-subreddit WallStreetBets"
   ]
  },
  {
   "cell_type": "code",
   "execution_count": 9,
   "id": "4b6e9b0c-0c6a-4819-8ed5-bbbe7578183d",
   "metadata": {},
   "outputs": [
    {
     "name": "stdout",
     "output_type": "stream",
     "text": [
      "https://old.reddit.com/r/SatoshiStreetBets/comments/roy9og/jigen_are_extending_their_first_ever_nft/hq2xff4/\n",
      "https://old.reddit.com/r/SatoshiStreetBets/comments/rowbsl/who_want_to_bet_against_this_short_iota/hq2x8jn/\n",
      "https://old.reddit.com/r/SatoshiStreetBets/comments/rowbsl/who_want_to_bet_against_this_short_iota/hq2wyq3/\n",
      "https://old.reddit.com/r/SatoshiStreetBets/comments/rowbsl/who_want_to_bet_against_this_short_iota/hq2wfhw/\n",
      "https://old.reddit.com/r/SatoshiStreetBets/comments/rp8jfj/just_did_a_200_yolo_on_hpny_happy_new_year_only/\n",
      "https://old.reddit.com/r/SatoshiStreetBets/comments/rp8guw/bonding_curve_algorithms_for_autonomous_market/\n",
      "https://old.reddit.com/r/SatoshiStreetBets/comments/rowbsl/who_want_to_bet_against_this_short_iota/hq2vmso/\n",
      "https://old.reddit.com/r/SatoshiStreetBets/comments/rp8emf/pitquidity_the_passive_income_king_that_airdrops/\n",
      "https://old.reddit.com/r/SatoshiStreetBets/comments/rp8e40/a_new_defi_project_duckydeficom/\n",
      "https://old.reddit.com/r/SatoshiStreetBets/comments/rp87tk/1000_hoge_turned_3000_hogebnb_moonshotting/\n"
     ]
    }
   ],
   "source": [
    "!snscrape -n 10 reddit-subreddit SatoshiStreetBets"
   ]
  },
  {
   "cell_type": "code",
   "execution_count": 10,
   "id": "b7cf72f7-ed2d-4166-8c0e-d123c3cb074d",
   "metadata": {},
   "outputs": [
    {
     "name": "stdout",
     "output_type": "stream",
     "text": [
      "https://old.reddit.com/r/Bitcoin/comments/rp7jqq/can_i_stake_my_btc_once_it_is_in_my_cold_wallet/hq2wcvu/\n",
      "https://old.reddit.com/r/movies/comments/88kypa/top_anime_movie_recommendation_list_update_theres/hq2wb3t/\n",
      "https://old.reddit.com/r/CryptoCurrency/comments/rp8iqn/looks_like_a_scam_but_how_is_it_possible/\n",
      "https://old.reddit.com/r/redscarepod/comments/rp3x34/i_dont_give_a_fuck_that_you_have_bpd/hq2vtb7/\n",
      "https://old.reddit.com/r/gaming/comments/rp8c79/how_come_the_creator_of_pokémon_is_so_poor/\n",
      "https://old.reddit.com/r/CryptoCurrency/comments/roxu3k/vitalik_buterin_if_eth_fails_to_scale_then_eth/hq2uva6/\n",
      "https://old.reddit.com/r/btc/comments/rod5qe/the_bitcoin_cash_holiday_special_donating_bch/hq2uc9s/\n",
      "https://old.reddit.com/r/movies/comments/rp215a/tokyo_godfathers_satoshi_kons_animation_film/hq2tzdm/\n",
      "https://old.reddit.com/r/SatoshiNakamotoINU/comments/rp85ja/satoshi_nakamoto_inu/\n",
      "https://old.reddit.com/r/pokemon/comments/rp7znf/about_satoshi_tajiris_net_worth/\n"
     ]
    }
   ],
   "source": [
    "!snscrape -n 10 reddit-search satoshi"
   ]
  },
  {
   "cell_type": "code",
   "execution_count": 11,
   "id": "2a6fd750-181d-4287-b0e7-783747624dd9",
   "metadata": {},
   "outputs": [
    {
     "name": "stdout",
     "output_type": "stream",
     "text": [
      "https://twitter.com/search?q=McManus\n",
      "https://twitter.com/search?q=%23RuleTheJungle\n",
      "https://twitter.com/search?q=Sarah%20Weddington\n",
      "https://twitter.com/search?q=Defense\n",
      "https://twitter.com/search?q=%23NYGvsPHI\n",
      "https://twitter.com/search?q=Myles%20Bryant\n",
      "https://twitter.com/search?q=McCloud\n",
      "https://twitter.com/search?q=%23BUFvsNE\n",
      "https://twitter.com/search?q=Witherspoon\n",
      "https://twitter.com/search?q=Panthers\n"
     ]
    }
   ],
   "source": [
    "!snscrape -n 10 twitter-trends "
   ]
  },
  {
   "cell_type": "code",
   "execution_count": 14,
   "id": "50b69982-b8b0-4c28-9d86-eac30253999d",
   "metadata": {},
   "outputs": [],
   "source": [
    "!snscrape -n 10 --jsonl twitter-hashtag bitcoin >tmp.json"
   ]
  },
  {
   "cell_type": "code",
   "execution_count": 26,
   "id": "49f21e0e-da1e-4ee7-a14b-50f20e11a552",
   "metadata": {},
   "outputs": [],
   "source": [
    "def sns_scrape(cmd):\n",
    "    os.system(cmd)\n",
    "    with open('tmp.json','r') as f:\n",
    "        data = f.read().splitlines()\n",
    "    df = pd.DataFrame(data)\n",
    "    df2 = pd.json_normalize(df[0].apply(json.loads))\n",
    "    return df2"
   ]
  },
  {
   "cell_type": "code",
   "execution_count": 29,
   "id": "3b5afd03-696a-4173-82ac-54fa9f1e5500",
   "metadata": {},
   "outputs": [],
   "source": [
    "my_df = sns_scrape('snscrape -n 10 --jsonl twitter-hashtag bitcoin >tmp.json')"
   ]
  },
  {
   "cell_type": "code",
   "execution_count": 30,
   "id": "63c82dd1-eb38-42c3-86ec-57af0864213f",
   "metadata": {},
   "outputs": [
    {
     "data": {
      "text/html": [
       "<div>\n",
       "<style scoped>\n",
       "    .dataframe tbody tr th:only-of-type {\n",
       "        vertical-align: middle;\n",
       "    }\n",
       "\n",
       "    .dataframe tbody tr th {\n",
       "        vertical-align: top;\n",
       "    }\n",
       "\n",
       "    .dataframe thead th {\n",
       "        text-align: right;\n",
       "    }\n",
       "</style>\n",
       "<table border=\"1\" class=\"dataframe\">\n",
       "  <thead>\n",
       "    <tr style=\"text-align: right;\">\n",
       "      <th></th>\n",
       "      <th>_type</th>\n",
       "      <th>url</th>\n",
       "      <th>date</th>\n",
       "      <th>content</th>\n",
       "      <th>renderedContent</th>\n",
       "      <th>id</th>\n",
       "      <th>replyCount</th>\n",
       "      <th>retweetCount</th>\n",
       "      <th>likeCount</th>\n",
       "      <th>quoteCount</th>\n",
       "      <th>...</th>\n",
       "      <th>inReplyToUser.listedCount</th>\n",
       "      <th>inReplyToUser.mediaCount</th>\n",
       "      <th>inReplyToUser.location</th>\n",
       "      <th>inReplyToUser.protected</th>\n",
       "      <th>inReplyToUser.linkUrl</th>\n",
       "      <th>inReplyToUser.linkTcourl</th>\n",
       "      <th>inReplyToUser.profileImageUrl</th>\n",
       "      <th>inReplyToUser.profileBannerUrl</th>\n",
       "      <th>inReplyToUser.label</th>\n",
       "      <th>inReplyToUser.url</th>\n",
       "    </tr>\n",
       "  </thead>\n",
       "  <tbody>\n",
       "    <tr>\n",
       "      <th>0</th>\n",
       "      <td>snscrape.modules.twitter.Tweet</td>\n",
       "      <td>https://twitter.com/thecryptonotice/status/147...</td>\n",
       "      <td>2021-12-26T23:41:47+00:00</td>\n",
       "      <td>CoinDesk: #Bitcoin, #Ethereum, #Crypto News an...</td>\n",
       "      <td>CoinDesk: #Bitcoin, #Ethereum, #Crypto News an...</td>\n",
       "      <td>1475250522177343497</td>\n",
       "      <td>0</td>\n",
       "      <td>0</td>\n",
       "      <td>0</td>\n",
       "      <td>0</td>\n",
       "      <td>...</td>\n",
       "      <td>NaN</td>\n",
       "      <td>NaN</td>\n",
       "      <td>NaN</td>\n",
       "      <td>NaN</td>\n",
       "      <td>NaN</td>\n",
       "      <td>NaN</td>\n",
       "      <td>NaN</td>\n",
       "      <td>NaN</td>\n",
       "      <td>NaN</td>\n",
       "      <td>NaN</td>\n",
       "    </tr>\n",
       "    <tr>\n",
       "      <th>1</th>\n",
       "      <td>snscrape.modules.twitter.Tweet</td>\n",
       "      <td>https://twitter.com/ioBanker/status/1475250476...</td>\n",
       "      <td>2021-12-26T23:41:37+00:00</td>\n",
       "      <td>#Bitcoin battles bears ‘on offense’ as Christm...</td>\n",
       "      <td>#Bitcoin battles bears ‘on offense’ as Christm...</td>\n",
       "      <td>1475250476723621899</td>\n",
       "      <td>0</td>\n",
       "      <td>0</td>\n",
       "      <td>0</td>\n",
       "      <td>0</td>\n",
       "      <td>...</td>\n",
       "      <td>NaN</td>\n",
       "      <td>NaN</td>\n",
       "      <td>NaN</td>\n",
       "      <td>NaN</td>\n",
       "      <td>NaN</td>\n",
       "      <td>NaN</td>\n",
       "      <td>NaN</td>\n",
       "      <td>NaN</td>\n",
       "      <td>NaN</td>\n",
       "      <td>NaN</td>\n",
       "    </tr>\n",
       "    <tr>\n",
       "      <th>2</th>\n",
       "      <td>snscrape.modules.twitter.Tweet</td>\n",
       "      <td>https://twitter.com/BitcoinTracker2/status/147...</td>\n",
       "      <td>2021-12-26T23:41:36+00:00</td>\n",
       "      <td>$BTCUSD\\nCurrent Bitcoin Price: $50,838\\nDay H...</td>\n",
       "      <td>$BTCUSD\\nCurrent Bitcoin Price: $50,838\\nDay H...</td>\n",
       "      <td>1475250473183633409</td>\n",
       "      <td>0</td>\n",
       "      <td>0</td>\n",
       "      <td>0</td>\n",
       "      <td>0</td>\n",
       "      <td>...</td>\n",
       "      <td>NaN</td>\n",
       "      <td>NaN</td>\n",
       "      <td>NaN</td>\n",
       "      <td>NaN</td>\n",
       "      <td>NaN</td>\n",
       "      <td>NaN</td>\n",
       "      <td>NaN</td>\n",
       "      <td>NaN</td>\n",
       "      <td>NaN</td>\n",
       "      <td>NaN</td>\n",
       "    </tr>\n",
       "    <tr>\n",
       "      <th>3</th>\n",
       "      <td>snscrape.modules.twitter.Tweet</td>\n",
       "      <td>https://twitter.com/TwistedJungle/status/14752...</td>\n",
       "      <td>2021-12-26T23:41:32+00:00</td>\n",
       "      <td>@Algobulltank @zerohedge $BTC #Bitcoin Unlikel...</td>\n",
       "      <td>@Algobulltank @zerohedge $BTC #Bitcoin Unlikel...</td>\n",
       "      <td>1475250458067447814</td>\n",
       "      <td>0</td>\n",
       "      <td>0</td>\n",
       "      <td>0</td>\n",
       "      <td>0</td>\n",
       "      <td>...</td>\n",
       "      <td>NaN</td>\n",
       "      <td>NaN</td>\n",
       "      <td>None</td>\n",
       "      <td>None</td>\n",
       "      <td>None</td>\n",
       "      <td>None</td>\n",
       "      <td>None</td>\n",
       "      <td>None</td>\n",
       "      <td>NaN</td>\n",
       "      <td>https://twitter.com/Algobulltank</td>\n",
       "    </tr>\n",
       "    <tr>\n",
       "      <th>4</th>\n",
       "      <td>snscrape.modules.twitter.Tweet</td>\n",
       "      <td>https://twitter.com/Rodriguesmann/status/14752...</td>\n",
       "      <td>2021-12-26T23:41:26+00:00</td>\n",
       "      <td>Sincronizando um full node, é perceptível o au...</td>\n",
       "      <td>Sincronizando um full node, é perceptível o au...</td>\n",
       "      <td>1475250433870516232</td>\n",
       "      <td>0</td>\n",
       "      <td>0</td>\n",
       "      <td>0</td>\n",
       "      <td>0</td>\n",
       "      <td>...</td>\n",
       "      <td>NaN</td>\n",
       "      <td>NaN</td>\n",
       "      <td>NaN</td>\n",
       "      <td>NaN</td>\n",
       "      <td>NaN</td>\n",
       "      <td>NaN</td>\n",
       "      <td>NaN</td>\n",
       "      <td>NaN</td>\n",
       "      <td>NaN</td>\n",
       "      <td>NaN</td>\n",
       "    </tr>\n",
       "  </tbody>\n",
       "</table>\n",
       "<p>5 rows × 73 columns</p>\n",
       "</div>"
      ],
      "text/plain": [
       "                            _type  \\\n",
       "0  snscrape.modules.twitter.Tweet   \n",
       "1  snscrape.modules.twitter.Tweet   \n",
       "2  snscrape.modules.twitter.Tweet   \n",
       "3  snscrape.modules.twitter.Tweet   \n",
       "4  snscrape.modules.twitter.Tweet   \n",
       "\n",
       "                                                 url  \\\n",
       "0  https://twitter.com/thecryptonotice/status/147...   \n",
       "1  https://twitter.com/ioBanker/status/1475250476...   \n",
       "2  https://twitter.com/BitcoinTracker2/status/147...   \n",
       "3  https://twitter.com/TwistedJungle/status/14752...   \n",
       "4  https://twitter.com/Rodriguesmann/status/14752...   \n",
       "\n",
       "                        date  \\\n",
       "0  2021-12-26T23:41:47+00:00   \n",
       "1  2021-12-26T23:41:37+00:00   \n",
       "2  2021-12-26T23:41:36+00:00   \n",
       "3  2021-12-26T23:41:32+00:00   \n",
       "4  2021-12-26T23:41:26+00:00   \n",
       "\n",
       "                                             content  \\\n",
       "0  CoinDesk: #Bitcoin, #Ethereum, #Crypto News an...   \n",
       "1  #Bitcoin battles bears ‘on offense’ as Christm...   \n",
       "2  $BTCUSD\\nCurrent Bitcoin Price: $50,838\\nDay H...   \n",
       "3  @Algobulltank @zerohedge $BTC #Bitcoin Unlikel...   \n",
       "4  Sincronizando um full node, é perceptível o au...   \n",
       "\n",
       "                                     renderedContent                   id  \\\n",
       "0  CoinDesk: #Bitcoin, #Ethereum, #Crypto News an...  1475250522177343497   \n",
       "1  #Bitcoin battles bears ‘on offense’ as Christm...  1475250476723621899   \n",
       "2  $BTCUSD\\nCurrent Bitcoin Price: $50,838\\nDay H...  1475250473183633409   \n",
       "3  @Algobulltank @zerohedge $BTC #Bitcoin Unlikel...  1475250458067447814   \n",
       "4  Sincronizando um full node, é perceptível o au...  1475250433870516232   \n",
       "\n",
       "   replyCount  retweetCount  likeCount  quoteCount  ...  \\\n",
       "0           0             0          0           0  ...   \n",
       "1           0             0          0           0  ...   \n",
       "2           0             0          0           0  ...   \n",
       "3           0             0          0           0  ...   \n",
       "4           0             0          0           0  ...   \n",
       "\n",
       "   inReplyToUser.listedCount inReplyToUser.mediaCount inReplyToUser.location  \\\n",
       "0                        NaN                      NaN                    NaN   \n",
       "1                        NaN                      NaN                    NaN   \n",
       "2                        NaN                      NaN                    NaN   \n",
       "3                        NaN                      NaN                   None   \n",
       "4                        NaN                      NaN                    NaN   \n",
       "\n",
       "  inReplyToUser.protected inReplyToUser.linkUrl inReplyToUser.linkTcourl  \\\n",
       "0                     NaN                   NaN                      NaN   \n",
       "1                     NaN                   NaN                      NaN   \n",
       "2                     NaN                   NaN                      NaN   \n",
       "3                    None                  None                     None   \n",
       "4                     NaN                   NaN                      NaN   \n",
       "\n",
       "  inReplyToUser.profileImageUrl inReplyToUser.profileBannerUrl  \\\n",
       "0                           NaN                            NaN   \n",
       "1                           NaN                            NaN   \n",
       "2                           NaN                            NaN   \n",
       "3                          None                           None   \n",
       "4                           NaN                            NaN   \n",
       "\n",
       "  inReplyToUser.label                 inReplyToUser.url  \n",
       "0                 NaN                               NaN  \n",
       "1                 NaN                               NaN  \n",
       "2                 NaN                               NaN  \n",
       "3                 NaN  https://twitter.com/Algobulltank  \n",
       "4                 NaN                               NaN  \n",
       "\n",
       "[5 rows x 73 columns]"
      ]
     },
     "execution_count": 30,
     "metadata": {},
     "output_type": "execute_result"
    }
   ],
   "source": [
    "my_df.head()"
   ]
  },
  {
   "cell_type": "code",
   "execution_count": 31,
   "id": "9e445fb4-3833-4ee6-9646-f8b4ba165c2a",
   "metadata": {},
   "outputs": [],
   "source": [
    "my_df = sns_scrape('snscrape -n 10 --jsonl twitter-trends >tmp.json')"
   ]
  },
  {
   "cell_type": "code",
   "execution_count": 32,
   "id": "ba550a56-28ff-4965-ac28-3c24a18c2a3c",
   "metadata": {},
   "outputs": [
    {
     "data": {
      "text/html": [
       "<div>\n",
       "<style scoped>\n",
       "    .dataframe tbody tr th:only-of-type {\n",
       "        vertical-align: middle;\n",
       "    }\n",
       "\n",
       "    .dataframe tbody tr th {\n",
       "        vertical-align: top;\n",
       "    }\n",
       "\n",
       "    .dataframe thead th {\n",
       "        text-align: right;\n",
       "    }\n",
       "</style>\n",
       "<table border=\"1\" class=\"dataframe\">\n",
       "  <thead>\n",
       "    <tr style=\"text-align: right;\">\n",
       "      <th></th>\n",
       "      <th>_type</th>\n",
       "      <th>name</th>\n",
       "      <th>domainContext</th>\n",
       "      <th>metaDescription</th>\n",
       "    </tr>\n",
       "  </thead>\n",
       "  <tbody>\n",
       "    <tr>\n",
       "      <th>0</th>\n",
       "      <td>snscrape.modules.twitter.Trend</td>\n",
       "      <td>Shelby Harris</td>\n",
       "      <td>NFL · Trending</td>\n",
       "      <td>None</td>\n",
       "    </tr>\n",
       "    <tr>\n",
       "      <th>1</th>\n",
       "      <td>snscrape.modules.twitter.Trend</td>\n",
       "      <td>Down 30</td>\n",
       "      <td>Trending in United States</td>\n",
       "      <td>10K Tweets</td>\n",
       "    </tr>\n",
       "    <tr>\n",
       "      <th>2</th>\n",
       "      <td>snscrape.modules.twitter.Trend</td>\n",
       "      <td>McManus</td>\n",
       "      <td>NFL · Trending</td>\n",
       "      <td>1,147 Tweets</td>\n",
       "    </tr>\n",
       "    <tr>\n",
       "      <th>3</th>\n",
       "      <td>snscrape.modules.twitter.Trend</td>\n",
       "      <td>Sarah Weddington</td>\n",
       "      <td>Politics · Trending</td>\n",
       "      <td>2,287 Tweets</td>\n",
       "    </tr>\n",
       "    <tr>\n",
       "      <th>4</th>\n",
       "      <td>snscrape.modules.twitter.Trend</td>\n",
       "      <td>Defense</td>\n",
       "      <td>NFL · Trending</td>\n",
       "      <td>107K Tweets</td>\n",
       "    </tr>\n",
       "  </tbody>\n",
       "</table>\n",
       "</div>"
      ],
      "text/plain": [
       "                            _type              name  \\\n",
       "0  snscrape.modules.twitter.Trend     Shelby Harris   \n",
       "1  snscrape.modules.twitter.Trend           Down 30   \n",
       "2  snscrape.modules.twitter.Trend           McManus   \n",
       "3  snscrape.modules.twitter.Trend  Sarah Weddington   \n",
       "4  snscrape.modules.twitter.Trend           Defense   \n",
       "\n",
       "               domainContext metaDescription  \n",
       "0             NFL · Trending            None  \n",
       "1  Trending in United States      10K Tweets  \n",
       "2             NFL · Trending    1,147 Tweets  \n",
       "3        Politics · Trending    2,287 Tweets  \n",
       "4             NFL · Trending     107K Tweets  "
      ]
     },
     "execution_count": 32,
     "metadata": {},
     "output_type": "execute_result"
    }
   ],
   "source": [
    "my_df.head()"
   ]
  },
  {
   "cell_type": "code",
   "execution_count": null,
   "id": "37dd4306-bf99-4587-810d-29be051af3e9",
   "metadata": {},
   "outputs": [],
   "source": []
  }
 ],
 "metadata": {
  "kernelspec": {
   "display_name": "default:Python",
   "language": "python",
   "name": "conda-env-default-py"
  },
  "language_info": {
   "codemirror_mode": {
    "name": "ipython",
    "version": 3
   },
   "file_extension": ".py",
   "mimetype": "text/x-python",
   "name": "python",
   "nbconvert_exporter": "python",
   "pygments_lexer": "ipython3",
   "version": "3.9.7"
  }
 },
 "nbformat": 4,
 "nbformat_minor": 5
}
